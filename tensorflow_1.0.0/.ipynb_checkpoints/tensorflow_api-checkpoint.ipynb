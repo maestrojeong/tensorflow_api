{
 "cells": [
  {
   "cell_type": "code",
   "execution_count": 1,
   "metadata": {
    "collapsed": true,
    "deletable": true,
    "editable": true
   },
   "outputs": [],
   "source": [
    "import tensorflow as tf"
   ]
  },
  {
   "cell_type": "code",
   "execution_count": 2,
   "metadata": {
    "collapsed": true,
    "deletable": true,
    "editable": true
   },
   "outputs": [],
   "source": [
    "sess = tf.Session()"
   ]
  },
  {
   "cell_type": "markdown",
   "metadata": {
    "deletable": true,
    "editable": true
   },
   "source": [
    "# tf.train.exponential_decay() and global_step\n",
    "decayed_learning_rate = learning_rate * decay_rate ^ (global_step / decay_steps)    \n",
    "\n",
    "learning_rate:  The initial learning rate.  \n",
    "global_step: Global step to use for the decay computation. Must not be negative.  \n",
    "decay_steps:  Must be positive. See the decay computation above.  \n",
    "decay_rate: A scalar float32 or float64 Tensor or a Python number. The decay rate.\n",
    "staircase: Boolean. It True decay the learning rate at discrete intervals\n",
    "name: String. Optional name of the operation. Defaults to 'ExponentialDecay'"
   ]
  },
  {
   "cell_type": "code",
   "execution_count": 18,
   "metadata": {
    "collapsed": false,
    "deletable": true,
    "editable": true
   },
   "outputs": [
    {
     "name": "stdout",
     "output_type": "stream",
     "text": [
      "i | global_step | learning_rate\n",
      "0 |          1|0.09600000083446503|\n",
      "i | global_step | learning_rate\n",
      "1 |          2|0.09216000139713287|\n",
      "i | global_step | learning_rate\n",
      "2 |          3|0.0884735956788063|\n",
      "i | global_step | learning_rate\n",
      "3 |          4|0.08493465185165405|\n",
      "i | global_step | learning_rate\n",
      "4 |          5|0.08153726160526276|\n",
      "i | global_step | learning_rate\n",
      "5 |          6|0.07827576994895935|\n",
      "i | global_step | learning_rate\n",
      "6 |          7|0.07514473795890808|\n",
      "i | global_step | learning_rate\n",
      "7 |          8|0.0721389502286911|\n",
      "i | global_step | learning_rate\n",
      "8 |          9|0.06925338506698608|\n",
      "i | global_step | learning_rate\n",
      "9 |          10|0.06648325175046921|\n"
     ]
    }
   ],
   "source": [
    "x_data = [1., 2., 3.]\n",
    "y_data = [1., 2., 3.]\n",
    "\n",
    "w = tf.Variable(tf.random_uniform([1], -1.0, 1.0))\n",
    "b = tf.Variable(tf.random_uniform([1], -1.0, 1.0))\n",
    "\n",
    "hypothesis = w * x_data + b\n",
    "cost = tf.reduce_mean(tf.square(hypothesis - y_data))\n",
    "global_step = tf.Variable(0, trainable=False)\n",
    "learning_rate = tf.train.exponential_decay(learning_rate= 0.1, global_step= global_step,\n",
    "                                        decay_steps = 1, decay_rate = 0.96, staircase=True)\n",
    "train = tf.train.GradientDescentOptimizer(learning_rate).minimize(loss = cost, global_step=global_step)\n",
    "init = tf.global_variables_initializer()\n",
    "\n",
    "sess = tf.Session()\n",
    "sess.run(init)\n",
    "for step in range(10):\n",
    "    sess.run(train)\n",
    "    print(\"i | global_step | learning_rate\")\n",
    "    print(\"{} |          {}|{}|\".format(step, sess.run(global_step), sess.run(learning_rate)))"
   ]
  },
  {
   "cell_type": "markdown",
   "metadata": {
    "deletable": true,
    "editable": true
   },
   "source": [
    "# tf.nn.conv2d_transpose"
   ]
  },
  {
   "cell_type": "code",
   "execution_count": 44,
   "metadata": {
    "collapsed": false,
    "deletable": true,
    "editable": true
   },
   "outputs": [
    {
     "name": "stdout",
     "output_type": "stream",
     "text": [
      "Input : (1, 4, 4, 1)\n",
      "[[[[ 1.]\n",
      "   [ 2.]\n",
      "   [ 1.]\n",
      "   [ 2.]]\n",
      "\n",
      "  [[ 2.]\n",
      "   [ 6.]\n",
      "   [ 2.]\n",
      "   [ 6.]]\n",
      "\n",
      "  [[ 1.]\n",
      "   [ 2.]\n",
      "   [ 1.]\n",
      "   [ 2.]]\n",
      "\n",
      "  [[ 2.]\n",
      "   [ 6.]\n",
      "   [ 2.]\n",
      "   [ 6.]]]]\n",
      "Filter : (2, 2, 1, 1)\n",
      "[[[[ 0.]]\n",
      "\n",
      "  [[ 1.]]]\n",
      "\n",
      "\n",
      " [[[ 0.]]\n",
      "\n",
      "  [[ 0.]]]]\n",
      "[[[[ 0.]\n",
      "   [ 1.]\n",
      "   [ 2.]\n",
      "   [ 1.]]\n",
      "\n",
      "  [[ 0.]\n",
      "   [ 2.]\n",
      "   [ 6.]\n",
      "   [ 2.]]\n",
      "\n",
      "  [[ 0.]\n",
      "   [ 1.]\n",
      "   [ 2.]\n",
      "   [ 1.]]\n",
      "\n",
      "  [[ 0.]\n",
      "   [ 2.]\n",
      "   [ 6.]\n",
      "   [ 2.]]]]\n"
     ]
    }
   ],
   "source": [
    "x = tf.constant([[1.,2.],[2.,6.]])\n",
    "x = tf.tile(x,[2,2])\n",
    "y = tf.constant([[0,1.],[0,0]])\n",
    "x_r = tf.reshape(x, [1,4,4,1])\n",
    "y_r = tf.reshape(y, [2,2,1,1])\n",
    "print(\"Input : {}\".format(x_r.get_shape()))\n",
    "print(sess.run(x_r))\n",
    "print(\"Filter : {}\".format(y_r.get_shape()))\n",
    "print(sess.run(y_r))\n",
    "print(sess.run(tf.nn.conv2d_transpose(x_r, y_r, strides = [1,1,1,1], output_shape= [1,4,4,1], padding='SAME')))\n",
    "#print(sess.run(tf.nn.conv2d_transpose(x_r, y_r, strides = [1,2,2,1], output_shape= [1,7,7,1], padding='SAME')))\n",
    "#print(sess.run(tf.nn.conv2d_transpose(x_r, y_r, strides = [1,2,2,1], output_shape= [1,8,8,1], padding='SAME')))\n",
    "#print(sess.run(tf.nn.conv2d_transpose(x_r, y_r, strides = [1,3,3,1], output_shape= [1,10,10,1], padding='SAME')))"
   ]
  },
  {
   "cell_type": "markdown",
   "metadata": {
    "deletable": true,
    "editable": true
   },
   "source": [
    "# tf.nn.conv2d"
   ]
  },
  {
   "cell_type": "code",
   "execution_count": 18,
   "metadata": {
    "collapsed": false,
    "deletable": true,
    "editable": true
   },
   "outputs": [
    {
     "name": "stdout",
     "output_type": "stream",
     "text": [
      "Input : (1, 4, 4, 1)\n",
      "[[[[ 1.]\n",
      "   [ 2.]\n",
      "   [ 1.]\n",
      "   [ 2.]]\n",
      "\n",
      "  [[ 2.]\n",
      "   [ 6.]\n",
      "   [ 2.]\n",
      "   [ 6.]]\n",
      "\n",
      "  [[ 1.]\n",
      "   [ 2.]\n",
      "   [ 1.]\n",
      "   [ 2.]]\n",
      "\n",
      "  [[ 2.]\n",
      "   [ 6.]\n",
      "   [ 2.]\n",
      "   [ 6.]]]]\n",
      "Filter : (2, 2, 1, 1)\n",
      "[[[[ 1.]]\n",
      "\n",
      "  [[ 0.]]]\n",
      "\n",
      "\n",
      " [[[ 1.]]\n",
      "\n",
      "  [[-1.]]]]\n",
      "[[[[-3.]\n",
      "   [ 6.]\n",
      "   [-3.]\n",
      "   [ 8.]]\n",
      "\n",
      "  [[ 1.]\n",
      "   [ 7.]\n",
      "   [ 1.]\n",
      "   [ 8.]]\n",
      "\n",
      "  [[-3.]\n",
      "   [ 6.]\n",
      "   [-3.]\n",
      "   [ 8.]]\n",
      "\n",
      "  [[ 2.]\n",
      "   [ 6.]\n",
      "   [ 2.]\n",
      "   [ 6.]]]]\n"
     ]
    }
   ],
   "source": [
    "x = tf.constant([[1.,2.],[2.,6.]])\n",
    "x = tf.tile(x,[2,2])\n",
    "y = tf.constant([[1.,0],[1.,-1]])\n",
    "x_r = tf.reshape(x, [1,4,4,1])\n",
    "y_r = tf.reshape(y, [2,2,1,1])\n",
    "print(\"Input : {}\".format(x_r.get_shape()))\n",
    "print(sess.run(x_r))\n",
    "print(\"Filter : {}\".format(y_r.get_shape()))\n",
    "print(sess.run(y_r))\n",
    "print(sess.run(tf.nn.conv2d(input= x_r, filter = y_r, strides=[1,1,1,1],padding = 'SAME')))"
   ]
  },
  {
   "cell_type": "markdown",
   "metadata": {
    "deletable": true,
    "editable": true
   },
   "source": [
    "# tf.concat"
   ]
  },
  {
   "cell_type": "code",
   "execution_count": 12,
   "metadata": {
    "collapsed": false,
    "deletable": true,
    "editable": true
   },
   "outputs": [
    {
     "name": "stdout",
     "output_type": "stream",
     "text": [
      "x : (2, 3)\n",
      "y : (2, 2)\n",
      "tf.concat([x,y],1) : (2, 5)\n",
      "[[ 1.  3.  4.  1.  2.]\n",
      " [ 2.  5.  6.  3.  4.]]\n"
     ]
    }
   ],
   "source": [
    "x = tf.constant([[[1.,3.,4.],[2.,5.,6.]],])\n",
    "print(\"x : {}\".format(x.get_shape()))\n",
    "y = tf.constant([[1.,2.],[3.,4.]])\n",
    "print(\"y : {}\".format(y.get_shape()))\n",
    "z = tf.concat([x,y], 1)\n",
    "print(\"tf.concat([x,y],1) : {}\".format(z.get_shape()))\n",
    "print(sess.run(z))"
   ]
  },
  {
   "cell_type": "markdown",
   "metadata": {
    "deletable": true,
    "editable": true
   },
   "source": [
    "# tf.nn.sigmoid_cross_entropy_with_logits"
   ]
  },
  {
   "cell_type": "code",
   "execution_count": 41,
   "metadata": {
    "collapsed": false,
    "deletable": true,
    "editable": true
   },
   "outputs": [
    {
     "name": "stdout",
     "output_type": "stream",
     "text": [
      "x\n",
      "[[1.0, 3.0, 4.0], [2.0, 5.0, 6.0]]\n",
      "x_true\n",
      "[[1.0, 0.0, 0.0], [0.0, 1.0, 0.0]]\n",
      "tf.sigmoid(x)\n",
      "[[ 0.7310586   0.95257413  0.98201376]\n",
      " [ 0.88079703  0.99330717  0.99752742]]\n",
      "First method\n",
      "[[ 0.31326166  3.04858756  4.01814842]\n",
      " [ 2.12692761  0.00671532  6.00249338]]\n",
      "Second method\n",
      "[[ 0.31326169  3.04858732  4.01814985]\n",
      " [ 2.12692809  0.00671535  6.00247574]]\n"
     ]
    }
   ],
   "source": [
    "x = [[1.,3.,4.],[2.,5.,6.]]\n",
    "print(\"x\")\n",
    "print(x)\n",
    "x_true = [[1.,0.,0.],[0.,1.,0.]]\n",
    "print(\"x_true\")\n",
    "print(x_true)\n",
    "x_sigmoid = tf.sigmoid(x)\n",
    "print(\"tf.sigmoid(x)\")\n",
    "print(sess.run(x_sigmoid))\n",
    "print(\"First method\")\n",
    "ones = tf.ones_like(x_sigmoid)\n",
    "print(-sess.run(x_true*tf.log(x_sigmoid)+(ones-x_true)*tf.log(ones-x_sigmoid)))\n",
    "print(\"Second method\")\n",
    "print(sess.run(tf.nn.sigmoid_cross_entropy_with_logits(labels = x_true, logits= x)))"
   ]
  },
  {
   "cell_type": "markdown",
   "metadata": {
    "deletable": true,
    "editable": true
   },
   "source": [
    "# normalize with tf.reduce_mean"
   ]
  },
  {
   "cell_type": "code",
   "execution_count": 19,
   "metadata": {
    "collapsed": false,
    "deletable": true,
    "editable": true
   },
   "outputs": [
    {
     "name": "stdout",
     "output_type": "stream",
     "text": [
      "[[-1  0  1]\n",
      " [ 2  3  4]]\n",
      "[[2 3 4]\n",
      " [5 6 7]]\n",
      "[[ 3  5  7]\n",
      " [ 6  8 10]]\n"
     ]
    }
   ],
   "source": [
    "x = tf.constant([[1,2,3],[4,5,6]])\n",
    "y = tf.constant([2,2,2])\n",
    "print(sess.run(x-y))\n",
    "print(sess.run(x+[1]))\n",
    "print(sess.run(x+[2,3,4]))"
   ]
  },
  {
   "cell_type": "code",
   "execution_count": 24,
   "metadata": {
    "collapsed": false,
    "deletable": true,
    "editable": true
   },
   "outputs": [
    {
     "name": "stdout",
     "output_type": "stream",
     "text": [
      "x : (2, 3)\n",
      "mean = tf.reduce_mean(x,[0])\n",
      "[ 2.5  3.5  4.5]\n",
      "x_mean\n",
      "[[-1.5 -1.5 -1.5]\n",
      " [ 1.5  1.5  1.5]]\n",
      "std =tf.reduce_mean(tf.square(x-mean),[0])\n",
      "[ 2.25  2.25  2.25]\n"
     ]
    }
   ],
   "source": [
    "x = tf.constant([[1,2,3],[4,5,6]], dtype = tf.float32)\n",
    "print(\"x : {}\".format(sess.run(x).shape))\n",
    "mean = tf.reduce_mean(x,[0])\n",
    "print(\"mean = tf.reduce_mean(x,[0])\")\n",
    "print(sess.run(mean))\n",
    "print(\"x_mean\")\n",
    "print(sess.run(x-mean))\n",
    "std =tf.reduce_mean(tf.square(x-mean),[0])\n",
    "print(\"std =tf.reduce_mean(tf.square(x-mean),[0])\")\n",
    "print(sess.run(std))"
   ]
  },
  {
   "cell_type": "markdown",
   "metadata": {
    "deletable": true,
    "editable": true
   },
   "source": [
    "# tf.get_shape()"
   ]
  },
  {
   "cell_type": "code",
   "execution_count": 15,
   "metadata": {
    "collapsed": false,
    "deletable": true,
    "editable": true
   },
   "outputs": [
    {
     "name": "stdout",
     "output_type": "stream",
     "text": [
      "x : (2, 3)\n",
      "[[1 2 3]\n",
      " [4 5 6]]\n",
      "x.get_shape().ndims\n",
      "2\n",
      "tf.expand_dims(x, dim=1).get_shape().ndims\n",
      "3\n"
     ]
    }
   ],
   "source": [
    "x = tf.constant([[1,2,3],[4,5,6]])\n",
    "print(\"x : {}\".format(x.get_shape()))\n",
    "print(sess.run(x))\n",
    "print(\"x.get_shape().ndims\")\n",
    "print(x.get_shape().ndims)\n",
    "print(\"tf.expand_dims(x, dim=1).get_shape().ndims\")\n",
    "print(tf.expand_dims(x, dim=1).get_shape().ndims)"
   ]
  },
  {
   "cell_type": "markdown",
   "metadata": {
    "deletable": true,
    "editable": true
   },
   "source": [
    "# tf.tile()"
   ]
  },
  {
   "cell_type": "code",
   "execution_count": 8,
   "metadata": {
    "collapsed": false,
    "deletable": true,
    "editable": true
   },
   "outputs": [
    {
     "name": "stdout",
     "output_type": "stream",
     "text": [
      "x : (2, 3)\n",
      "[[1 2 3]\n",
      " [4 5 6]]\n",
      "tf.tile(x,[2,3]): (4, 9)\n",
      "[[1 2 3 1 2 3 1 2 3]\n",
      " [4 5 6 4 5 6 4 5 6]\n",
      " [1 2 3 1 2 3 1 2 3]\n",
      " [4 5 6 4 5 6 4 5 6]]\n"
     ]
    }
   ],
   "source": [
    "x = tf.constant([[1,2,3],[4,5,6]])\n",
    "print(\"x : {}\".format(sess.run(x).shape))\n",
    "print(sess.run(x))\n",
    "print(\"tf.tile(x,[2,3]): {}\".format(sess.run(tf.tile(x,[2,3])).shape))\n",
    "print(sess.run(tf.tile(x,[2,3])))"
   ]
  },
  {
   "cell_type": "markdown",
   "metadata": {
    "deletable": true,
    "editable": true
   },
   "source": [
    "# tf.expand_dims"
   ]
  },
  {
   "cell_type": "code",
   "execution_count": 10,
   "metadata": {
    "collapsed": false,
    "deletable": true,
    "editable": true,
    "scrolled": true
   },
   "outputs": [
    {
     "name": "stdout",
     "output_type": "stream",
     "text": [
      "x : (2, 3)\n",
      "[[1 2 3]\n",
      " [4 5 6]]\n",
      "tf.expand_dims(x, dim=1) : (2, 1, 3)\n",
      "[[[1 2 3]]\n",
      "\n",
      " [[4 5 6]]]\n",
      "tf.expand_dims(x, dim=0) : (1, 2, 3)\n",
      "[[[1 2 3]\n",
      "  [4 5 6]]]\n",
      "tf.expand_dims(x, dim=2) : (2, 3, 1)\n",
      "[[[1]\n",
      "  [2]\n",
      "  [3]]\n",
      "\n",
      " [[4]\n",
      "  [5]\n",
      "  [6]]]\n",
      "tf.expand_dims(x, dim=-1) : (2, 3, 1)\n",
      "[[[1]\n",
      "  [2]\n",
      "  [3]]\n",
      "\n",
      " [[4]\n",
      "  [5]\n",
      "  [6]]]\n"
     ]
    },
    {
     "data": {
      "text/plain": [
       "'\\nprint(\"tf.expand_dims(x, dim=3) : {}\".format(sess.run(tf.expand_dims(x, dim=3)).shape))\\nprint(sess.run(tf.expand_dims(x, dim=3)))\\nError occured\\n'"
      ]
     },
     "execution_count": 10,
     "metadata": {},
     "output_type": "execute_result"
    }
   ],
   "source": [
    "x = tf.constant([[1,2,3],[4,5,6]])\n",
    "print(\"x : {}\".format(sess.run(x).shape))\n",
    "print(sess.run(x))\n",
    "print(\"tf.expand_dims(x, dim=1) : {}\".format(sess.run(tf.expand_dims(x, dim=1)).shape))\n",
    "print(sess.run(tf.expand_dims(x, dim=1)))\n",
    "print(\"tf.expand_dims(x, dim=0) : {}\".format(sess.run(tf.expand_dims(x, dim=0)).shape))\n",
    "print(sess.run(tf.expand_dims(x, dim=0)))\n",
    "print(\"tf.expand_dims(x, dim=2) : {}\".format(sess.run(tf.expand_dims(x, dim=2)).shape))\n",
    "print(sess.run(tf.expand_dims(x, dim=2)))\n",
    "print(\"tf.expand_dims(x, dim=-1) : {}\".format(sess.run(tf.expand_dims(x, dim=-1)).shape))\n",
    "print(sess.run(tf.expand_dims(x, dim=-1)))\n",
    "'''\n",
    "print(\"tf.expand_dims(x, dim=3) : {}\".format(sess.run(tf.expand_dims(x, dim=3)).shape))\n",
    "print(sess.run(tf.expand_dims(x, dim=3)))\n",
    "Error occured\n",
    "'''\n"
   ]
  },
  {
   "cell_type": "markdown",
   "metadata": {
    "deletable": true,
    "editable": true
   },
   "source": [
    "# tf.stack, tf.unstack, tf.split"
   ]
  },
  {
   "cell_type": "code",
   "execution_count": 11,
   "metadata": {
    "collapsed": false,
    "deletable": true,
    "editable": true
   },
   "outputs": [
    {
     "name": "stdout",
     "output_type": "stream",
     "text": [
      "[[1 2 3]\n",
      " [4 5 6]]\n",
      "[array([1, 2, 3], dtype=int32), array([4, 5, 6], dtype=int32)]\n",
      "[array([[1, 2, 3]], dtype=int32), array([[4, 5, 6]], dtype=int32)]\n"
     ]
    }
   ],
   "source": [
    "v1 = tf.constant([1,2,3])\n",
    "v2 = tf.constant([4,5,6])\n",
    "t = tf.stack([v1,v2])\n",
    "print(sess.run(t))\n",
    "print(sess.run(tf.unstack(t)))\n",
    "print(sess.run(tf.split(t, 2, axis=0)))"
   ]
  },
  {
   "cell_type": "markdown",
   "metadata": {
    "deletable": true,
    "editable": true
   },
   "source": [
    "# tf.get_variable() v.s tf.variable"
   ]
  },
  {
   "cell_type": "code",
   "execution_count": 3,
   "metadata": {
    "collapsed": false,
    "deletable": true,
    "editable": true
   },
   "outputs": [
    {
     "name": "stdout",
     "output_type": "stream",
     "text": [
      "[[-0.95063412 -0.29145828 -0.10211317]\n",
      " [-0.81984377  0.83733428  0.06603181]]\n",
      "[[-1.50503135 -1.15622473  0.42767996]\n",
      " [ 0.11276423 -1.15868485  0.90092182]]\n",
      "[[-0.12855768  0.00583577 -0.8714211 ]\n",
      " [ 0.24863982  0.35162139 -0.72656345]\n",
      " [-0.61718869 -0.48462391 -0.75277734]]\n"
     ]
    }
   ],
   "source": [
    "v = tf.Variable(tf.random_normal([2,3]), name='v')\n",
    "x = tf.get_variable('v', [2,3],initializer= tf.random_normal_initializer())\n",
    "y = tf.get_variable('y', [3,3])\n",
    "sess.run(tf.global_variables_initializer())\n",
    "print(sess.run(v))\n",
    "print(sess.run(x))\n",
    "print(sess.run(y))"
   ]
  },
  {
   "cell_type": "markdown",
   "metadata": {
    "deletable": true,
    "editable": true
   },
   "source": [
    " # Share variables with scope"
   ]
  },
  {
   "cell_type": "code",
   "execution_count": 4,
   "metadata": {
    "collapsed": false,
    "deletable": true,
    "editable": true
   },
   "outputs": [
    {
     "name": "stdout",
     "output_type": "stream",
     "text": [
      "[[-0.30628705 -0.39645576 -0.4932133 ]\n",
      " [ 1.5868845  -0.87908548  0.93908131]]\n",
      "[[-0.30628705 -0.39645576 -0.4932133 ]\n",
      " [ 1.5868845  -0.87908548  0.93908131]]\n"
     ]
    }
   ],
   "source": [
    "with tf.variable_scope('hi') as scope:\n",
    "    v = tf.get_variable('a', [2,3],initializer= tf.random_normal_initializer())\n",
    "    scope.reuse_variables()\n",
    "    x = tf.get_variable('a', [2,3],initializer= tf.random_normal_initializer())\n",
    "    sess.run(tf.global_variables_initializer())\n",
    "    print(sess.run(v))\n",
    "    print(sess.run(x))\n",
    "    "
   ]
  },
  {
   "cell_type": "markdown",
   "metadata": {
    "deletable": true,
    "editable": true
   },
   "source": [
    "# tf.split()"
   ]
  },
  {
   "cell_type": "code",
   "execution_count": 3,
   "metadata": {
    "collapsed": false,
    "deletable": true,
    "editable": true
   },
   "outputs": [
    {
     "name": "stdout",
     "output_type": "stream",
     "text": [
      "[ 5 30]\n",
      "[5 4]\n",
      "[ 5 15]\n",
      "[ 5 11]\n",
      "[ 5 10]\n",
      "[ 3  5 10]\n",
      "[ 5  1 30]\n"
     ]
    }
   ],
   "source": [
    "value = tf.random_normal([5,30],stddev=0.1)\n",
    "print(sess.run(tf.shape(value)))\n",
    "\n",
    "split0, split1, split2 = tf.split(value, [4, 15, 11], 1)\n",
    "print(sess.run(tf.shape(split0)))\n",
    "print(sess.run(tf.shape(split1)))\n",
    "print(sess.run(tf.shape(split2)))\n",
    "split0, split1, split2 = tf.split(value, 3, axis=1)\n",
    "print(sess.run(tf.shape(split0)))\n",
    "splits = tf.split(value, 3, axis=1)\n",
    "print(sess.run(tf.shape(splits)))\n",
    "splits = tf.split(value, 5, axis=0)\n",
    "print(sess.run(tf.shape(splits)))"
   ]
  }
 ],
 "metadata": {
  "kernelspec": {
   "display_name": "Python 3",
   "language": "python",
   "name": "python3"
  },
  "language_info": {
   "codemirror_mode": {
    "name": "ipython",
    "version": 3
   },
   "file_extension": ".py",
   "mimetype": "text/x-python",
   "name": "python",
   "nbconvert_exporter": "python",
   "pygments_lexer": "ipython3",
   "version": "3.4.5"
  }
 },
 "nbformat": 4,
 "nbformat_minor": 2
}
