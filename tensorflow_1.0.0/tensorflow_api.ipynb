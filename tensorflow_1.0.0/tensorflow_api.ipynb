{
 "cells": [
  {
   "cell_type": "markdown",
   "metadata": {
    "deletable": true,
    "editable": true
   },
   "source": [
    "# Implement First"
   ]
  },
  {
   "cell_type": "code",
   "execution_count": 1,
   "metadata": {
    "collapsed": true,
    "deletable": true,
    "editable": true
   },
   "outputs": [],
   "source": [
    "import tensorflow as tf\n",
    "import matplotlib.pyplot as plt\n",
    "sess = tf.Session()\n",
    "def print_variables(keys):\n",
    "    i = 0\n",
    "    print(keys)\n",
    "    while True:\n",
    "        try:\n",
    "            print(tf.get_collection(keys)[i])\n",
    "            i+=1\n",
    "        except IndexError:\n",
    "            break;"
   ]
  },
  {
   "cell_type": "markdown",
   "metadata": {
    "deletable": true,
    "editable": true
   },
   "source": [
    "# tf.nn.xw_plus_b"
   ]
  },
  {
   "cell_type": "code",
   "execution_count": 4,
   "metadata": {
    "collapsed": false,
    "deletable": true,
    "editable": true
   },
   "outputs": [
    {
     "name": "stdout",
     "output_type": "stream",
     "text": [
      "[[6]]\n"
     ]
    }
   ],
   "source": [
    "x = tf.constant([[1,2]])\n",
    "w = tf.constant([[3],[1]])\n",
    "b = tf.constant([1])\n",
    "# 1*3 + 2*1+1= 6\n",
    "print(sess.run(tf.nn.xw_plus_b(x,w,b)))"
   ]
  },
  {
   "cell_type": "markdown",
   "metadata": {
    "deletable": true,
    "editable": true
   },
   "source": [
    "# tf.nn.embedding_lookup(params, ids)"
   ]
  },
  {
   "cell_type": "markdown",
   "metadata": {
    "deletable": true,
    "editable": true
   },
   "source": [
    "change ids to params embedding[m, n]  \n",
    "type of elements in ids should be int(less than m)  \n",
    "ids are any size of tensor.  \n",
    "Every elements of ids changes to corresponding params[i]\n",
    "* See also with **tf.gather**"
   ]
  },
  {
   "cell_type": "code",
   "execution_count": 2,
   "metadata": {
    "collapsed": false,
    "deletable": true,
    "editable": true
   },
   "outputs": [
    {
     "name": "stdout",
     "output_type": "stream",
     "text": [
      "[[ 0.65916538  0.31374788  0.46987545  0.16130471  0.52711689]\n",
      " [ 0.09688437  0.6438216   0.37012732  0.72636056  0.37062776]\n",
      " [ 0.34294486  0.8576411   0.96145344  0.03932071  0.14303041]]\n",
      "[[ 0.34294486  0.8576411   0.96145344  0.03932071  0.14303041]\n",
      " [ 0.09688437  0.6438216   0.37012732  0.72636056  0.37062776]\n",
      " [ 0.34294486  0.8576411   0.96145344  0.03932071  0.14303041]\n",
      " [ 0.65916538  0.31374788  0.46987545  0.16130471  0.52711689]]\n"
     ]
    }
   ],
   "source": [
    "embedding = tf.Variable(tf.random_uniform([3, 5]))\n",
    "x = tf.nn.embedding_lookup(embedding, [2, 1, 2, 0])\n",
    "sess.run(tf.global_variables_initializer())\n",
    "print(sess.run(embedding))\n",
    "print(sess.run(x))"
   ]
  },
  {
   "cell_type": "code",
   "execution_count": 6,
   "metadata": {
    "collapsed": false,
    "deletable": true,
    "editable": true
   },
   "outputs": [
    {
     "name": "stdout",
     "output_type": "stream",
     "text": [
      "[[1 2]\n",
      " [3 4]]\n",
      "[[5 6]\n",
      " [7 8]]\n",
      "[[1 2]\n",
      " [5 6]\n",
      " [3 4]\n",
      " [7 8]\n",
      " [5 6]\n",
      " [3 4]]\n",
      "[[1 2]\n",
      " [3 4]\n",
      " [5 6]\n",
      " [7 8]\n",
      " [3 4]\n",
      " [5 6]]\n"
     ]
    }
   ],
   "source": [
    "embedding1 = tf.Variable([[1,2],[3,4]])\n",
    "embedding2 = tf.Variable([[5,6],[7,8]])\n",
    "x = tf.nn.embedding_lookup([embedding1, embedding2], [0,1,2,3,1,2], partition_strategy='mod')\n",
    "y = tf.nn.embedding_lookup([embedding1, embedding2], [0,1,2,3,1,2], partition_strategy='div')\n",
    "sess.run(tf.global_variables_initializer())\n",
    "print(sess.run(embedding1))\n",
    "print(sess.run(embedding2))\n",
    "print(sess.run(x))\n",
    "print(sess.run(y))"
   ]
  },
  {
   "cell_type": "markdown",
   "metadata": {
    "deletable": true,
    "editable": true
   },
   "source": [
    "# tf.exp\n",
    "    안에는 무조건 실수 여야 한다."
   ]
  },
  {
   "cell_type": "code",
   "execution_count": 7,
   "metadata": {
    "collapsed": false,
    "deletable": true,
    "editable": true
   },
   "outputs": [
    {
     "name": "stdout",
     "output_type": "stream",
     "text": [
      "2.71828\n"
     ]
    }
   ],
   "source": [
    "print(sess.run(tf.exp(1.0)))"
   ]
  },
  {
   "cell_type": "markdown",
   "metadata": {
    "deletable": true,
    "editable": true
   },
   "source": [
    "# tf.sqrt"
   ]
  },
  {
   "cell_type": "code",
   "execution_count": 17,
   "metadata": {
    "collapsed": false,
    "deletable": true,
    "editable": true
   },
   "outputs": [
    {
     "name": "stdout",
     "output_type": "stream",
     "text": [
      "x\n",
      "[ 1.  2.  3.]\n",
      "tf.sqrt(x)\n",
      "[ 1.          1.41421354  1.73205078]\n"
     ]
    }
   ],
   "source": [
    "x = tf.constant([1,2,3], dtype = tf.float32)\n",
    "print(\"x\")\n",
    "print(sess.run(x))\n",
    "print('tf.sqrt(x)')\n",
    "print(sess.run(tf.sqrt(x)))"
   ]
  },
  {
   "cell_type": "markdown",
   "metadata": {
    "deletable": true,
    "editable": true
   },
   "source": [
    "# tf.tile"
   ]
  },
  {
   "cell_type": "code",
   "execution_count": 16,
   "metadata": {
    "collapsed": false,
    "deletable": true,
    "editable": true
   },
   "outputs": [
    {
     "name": "stdout",
     "output_type": "stream",
     "text": [
      "x\n",
      "[ 1.  2.  3.]\n",
      "tf.tile(x,[1,3])\n",
      "[ 1.  2.  3.  1.  2.  3.  1.  2.  3.]\n",
      "[array([ 1.,  2.,  3.], dtype=float32), array([ 1.,  2.,  3.], dtype=float32), array([ 1.,  2.,  3.], dtype=float32)]\n",
      "[[ 1.  2.  3.]\n",
      " [ 1.  2.  3.]\n",
      " [ 1.  2.  3.]]\n"
     ]
    }
   ],
   "source": [
    "x = tf.constant([1,2,3], dtype = tf.float32)\n",
    "print(\"x\")\n",
    "print(sess.run(x))\n",
    "print('tf.tile(x,[1,3])')\n",
    "temp = tf.tile(x,[3])\n",
    "print(sess.run(temp))\n",
    "#plus\n",
    "temp2 = tf.split(temp, 3, axis = 0)\n",
    "print(sess.run(temp2))\n",
    "temp3 = tf.stack(temp2)\n",
    "print(sess.run(temp3))"
   ]
  },
  {
   "cell_type": "markdown",
   "metadata": {
    "deletable": true,
    "editable": true
   },
   "source": [
    "# Basic div and mul"
   ]
  },
  {
   "cell_type": "code",
   "execution_count": 2,
   "metadata": {
    "collapsed": false,
    "deletable": true,
    "editable": true
   },
   "outputs": [
    {
     "name": "stdout",
     "output_type": "stream",
     "text": [
      "x\n",
      "[ 1.  2.  3.]\n",
      "y\n",
      "[ 2.  4.  6.]\n",
      "x/y\n",
      "[ 0.5  0.5  0.5]\n",
      "x*y\n",
      "[  2.   8.  18.]\n"
     ]
    }
   ],
   "source": [
    "x = tf.constant([1,2,3], dtype = tf.float32)\n",
    "y = tf.constant([2,4,6], dtype = tf.float32)\n",
    "print(\"x\")\n",
    "print(sess.run(x))\n",
    "print(\"y\")\n",
    "print(sess.run(y))\n",
    "print(\"x/y\")\n",
    "print(sess.run(x/y))\n",
    "print(\"x*y\")\n",
    "print(sess.run(x*y))"
   ]
  },
  {
   "cell_type": "markdown",
   "metadata": {
    "deletable": true,
    "editable": true
   },
   "source": [
    "# tf.group"
   ]
  },
  {
   "cell_type": "code",
   "execution_count": 7,
   "metadata": {
    "collapsed": false,
    "deletable": true,
    "editable": true
   },
   "outputs": [
    {
     "name": "stdout",
     "output_type": "stream",
     "text": [
      "2\n",
      "4\n"
     ]
    }
   ],
   "source": [
    "x = tf.Variable(1)\n",
    "y = tf.Variable(2)\n",
    "x_op = tf.assign(x, x+1)\n",
    "y_op = tf.assign(y, y*2)\n",
    "\n",
    "ops = tf.group(x_op, y_op)\n",
    "sess.run(tf.global_variables_initializer())\n",
    "sess.run(ops)\n",
    "\n",
    "print(sess.run(x))\n",
    "print(sess.run(y))"
   ]
  },
  {
   "cell_type": "markdown",
   "metadata": {
    "deletable": true,
    "editable": true
   },
   "source": [
    "# tf.train.ExponentialMovingAverage"
   ]
  },
  {
   "cell_type": "code",
   "execution_count": 2,
   "metadata": {
    "collapsed": false,
    "deletable": true,
    "editable": true
   },
   "outputs": [
    {
     "name": "stdout",
     "output_type": "stream",
     "text": [
      "trainable_variables\n",
      "Tensor(\"w/read:0\", shape=(), dtype=float32)\n",
      "Tensor(\"b/read:0\", shape=(), dtype=float32)\n",
      "moving_average_variables\n",
      "ema.average(w) : variable\n",
      "Tensor(\"w/ExponentialMovingAverage/read:0\", shape=(), dtype=float32)\n",
      "ema.average_name(w) : name\n",
      "w/ExponentialMovingAverage\n",
      "<class 'dict'>\n",
      "ema.variables_to_restore() : name to variable\n",
      "{'w/ExponentialMovingAverage': <tensorflow.python.ops.variables.Variable object at 0x7fa8101c05f8>, 'b/ExponentialMovingAverage': <tensorflow.python.ops.variables.Variable object at 0x7fa8177c1b70>}\n"
     ]
    },
    {
     "data": {
      "image/png": "[encoded data removed]",
      "text/plain": [
       "<matplotlib.figure.Figure at 0x7fa80df2d6a0>"
      ]
     },
     "metadata": {},
     "output_type": "display_data"
    }
   ],
   "source": [
    "x_data = [1., 2., 3.]\n",
    "y_data = [1., 2., 3.]\n",
    "\n",
    "w = tf.Variable(1.0, name ='w')\n",
    "b = tf.Variable(0.1, name ='b')\n",
    "\n",
    "hypothesis = w * x_data + b\n",
    "cost = tf.reduce_mean(tf.square(hypothesis - y_data))\n",
    "print_variables(\"trainable_variables\")\n",
    "train = tf.train.GradientDescentOptimizer(0.01).minimize(loss = cost, var_list = [w, b])\n",
    "\n",
    "ema = tf.train.ExponentialMovingAverage(decay = 0.5)\n",
    "\n",
    "\n",
    "print_variables(\"moving_average_variables\")\n",
    "\n",
    "with tf.control_dependencies([train]):\n",
    "    temp = ema.apply([w, b])\n",
    "\n",
    "sess = tf.Session()\n",
    "sess.run(tf.global_variables_initializer())\n",
    "#train_op = tf.group(temp)\n",
    "    \n",
    "print(\"ema.average(w) : variable\")\n",
    "print(ema.average(w))\n",
    "print(\"ema.average_name(w) : name\")\n",
    "print(ema.average_name(w))\n",
    "print(type(ema.variables_to_restore()))\n",
    "print(\"ema.variables_to_restore() : name to variable\")\n",
    "print(ema.variables_to_restore())\n",
    "\n",
    "weight_track = []\n",
    "ema_weight_track = []\n",
    "x_axis = []\n",
    "semi_weight_track = []\n",
    "for step in range(10):\n",
    "    weight_track.append(sess.run(w))\n",
    "    ema_weight_track.append(sess.run(ema.average(w)))# already initialized with weight\n",
    "    if step==0:\n",
    "        semi_weight_track.append(sess.run(w))\n",
    "    else:\n",
    "        semi_weight_track.append(weight_track[-1]*0.5 + semi_weight_track[-1]*0.5)    \n",
    "    x_axis.append(step)\n",
    "    sess.run(temp)\n",
    "\n",
    "plt.plot(x_axis, weight_track, 'ro',label = 'weight')\n",
    "plt.plot(x_axis, ema_weight_track, 'bo', label = 'ema_weight')\n",
    "plt.plot(x_axis, semi_weight_track, 'g', label = 'semi_weight')\n",
    "plt.legend()\n",
    "plt.show()"
   ]
  },
  {
   "cell_type": "markdown",
   "metadata": {
    "deletable": true,
    "editable": true
   },
   "source": [
    "# tf.reduce_sum"
   ]
  },
  {
   "cell_type": "code",
   "execution_count": 3,
   "metadata": {
    "collapsed": false,
    "deletable": true,
    "editable": true
   },
   "outputs": [
    {
     "name": "stdout",
     "output_type": "stream",
     "text": [
      "x\n",
      "[[1 2 3]\n",
      " [4 5 6]]\n",
      "tf.reduce_sum(x,[1])\n",
      "[ 6 15]\n"
     ]
    }
   ],
   "source": [
    "x = tf.constant([[1,2,3],[4,5,6]])\n",
    "print(\"x\")\n",
    "print(sess.run(x))\n",
    "print(\"tf.reduce_sum(x,[1])\")\n",
    "print(sess.run(tf.reduce_sum(x,[1])))"
   ]
  },
  {
   "cell_type": "markdown",
   "metadata": {
    "deletable": true,
    "editable": true
   },
   "source": [
    "# tf.cast"
   ]
  },
  {
   "cell_type": "code",
   "execution_count": 4,
   "metadata": {
    "collapsed": false,
    "deletable": true,
    "editable": true
   },
   "outputs": [
    {
     "name": "stdout",
     "output_type": "stream",
     "text": [
      "x\n",
      "Tensor(\"Const_2:0\", shape=(1,), dtype=float32)\n",
      "tf.cast(x,'int')\n",
      "Tensor(\"Cast:0\", shape=(1,), dtype=int32)\n",
      "[1]\n",
      "x is unchanged\n",
      "Tensor(\"Const_2:0\", shape=(1,), dtype=float32)\n",
      "tf.cast(x,'bool')\n",
      "Tensor(\"Cast_2:0\", shape=(1,), dtype=bool)\n"
     ]
    }
   ],
   "source": [
    "x = tf.constant([1.8])\n",
    "print(\"x\")\n",
    "print(x)\n",
    "print(\"tf.cast(x,'int')\")\n",
    "print(tf.cast(x,tf.int32))\n",
    "print(sess.run(tf.cast(x,tf.int32)))\n",
    "print(\"x is unchanged\")\n",
    "print(x)\n",
    "print(\"tf.cast(x,'bool')\")\n",
    "print(tf.cast(x,tf.bool))"
   ]
  },
  {
   "cell_type": "markdown",
   "metadata": {
    "deletable": true,
    "editable": true
   },
   "source": [
    "# tf.argmax"
   ]
  },
  {
   "cell_type": "code",
   "execution_count": 3,
   "metadata": {
    "collapsed": false,
    "deletable": true,
    "editable": true
   },
   "outputs": [
    {
     "name": "stdout",
     "output_type": "stream",
     "text": [
      "x : [[1 2 3]\n",
      " [2 3 1]]\n",
      "tf.argmax(x,0)\n",
      "[1 1 0]\n",
      "tf.argmax(x,1)\n",
      "[2 1]\n"
     ]
    }
   ],
   "source": [
    "x = tf.constant([[1,2,3],[2,3,1]])\n",
    "print(\"x : {}\".format(sess.run(x)))\n",
    "print(\"tf.argmax(x,0)\")\n",
    "print(sess.run(tf.argmax(x,0)))\n",
    "print(\"tf.argmax(x,1)\")\n",
    "print(sess.run(tf.argmax(x,1)))"
   ]
  },
  {
   "cell_type": "markdown",
   "metadata": {
    "deletable": true,
    "editable": true
   },
   "source": [
    "# tf.random_uniform\n",
    "    default : random_uniform[0 to 1] with the shape\n",
    "    min_val, max_val to control random_unirom[min_val to 1]"
   ]
  },
  {
   "cell_type": "code",
   "execution_count": 3,
   "metadata": {
    "collapsed": false,
    "deletable": true,
    "editable": true
   },
   "outputs": [
    {
     "name": "stdout",
     "output_type": "stream",
     "text": [
      "x : tf.random_uniform([2,3])\n",
      "[[ 0.90442967  0.45734906  0.48704255]\n",
      " [ 0.82854152  0.82189322  0.72934389]]\n",
      "y : tf.random_uniform([2,3],minval=2, maxval=3)\n",
      "[[ 2.98311114  2.23425007  2.31004858]\n",
      " [ 2.07104158  2.71988559  2.32173228]]\n",
      "tf.get_collection(\"variables\")[-1]\n",
      "Tensor(\"Variable_2/read:0\", shape=(2, 3), dtype=float32)\n",
      "z : tf.Variable(y)\n",
      "[[ 2.15343928  2.2865901   2.19007039]\n",
      " [ 2.17396927  2.52031994  2.62790036]]\n",
      "Tensor(\"Variable_3/read:0\", shape=(2,), dtype=int32)\n",
      "[0 1]\n"
     ]
    }
   ],
   "source": [
    "x = tf.random_uniform([2,3])# almost like a constant\n",
    "print(\"x : tf.random_uniform([2,3])\")\n",
    "print(sess.run(x))\n",
    "y = tf.random_uniform([2,3],minval=2, maxval=3)\n",
    "print(\"y : tf.random_uniform([2,3],minval=2, maxval=3)\")\n",
    "print(sess.run(y))\n",
    "z = tf.Variable(y)\n",
    "print('tf.get_collection(\"variables\")[-1]')\n",
    "print(tf.get_collection('variables')[-1])\n",
    "sess.run(tf.variables_initializer([tf.get_collection('variables')[-1]]))\n",
    "print(\"z : tf.Variable(y)\")\n",
    "print(sess.run(z))\n",
    "w = tf.Variable(tf.constant([0,1]))\n",
    "print(tf.get_collection('variables')[-1])\n",
    "sess.run(tf.variables_initializer([tf.get_collection('variables')[-1]]))\n",
    "print(sess.run(w))"
   ]
  },
  {
   "cell_type": "markdown",
   "metadata": {
    "deletable": true,
    "editable": true
   },
   "source": [
    "# tf.sign"
   ]
  },
  {
   "cell_type": "code",
   "execution_count": 4,
   "metadata": {
    "collapsed": false,
    "deletable": true,
    "editable": true
   },
   "outputs": [
    {
     "name": "stdout",
     "output_type": "stream",
     "text": [
      "x : tf.constant([[-1,2],[3,-4]],dtype = tf.float32)\n",
      "[[-1.  2.]\n",
      " [ 3. -4.]]\n",
      "tf.sign(x)\n",
      "[[-1.  1.]\n",
      " [ 1. -1.]]\n",
      "(tf.sign(x)+1)/2\n",
      "[[ 0.  1.]\n",
      " [ 1.  0.]]\n"
     ]
    }
   ],
   "source": [
    "x = tf.constant([[-1,2],[3,-4]],dtype = tf.float32)\n",
    "print(\"x : tf.constant([[-1,2],[3,-4]],dtype = tf.float32)\")\n",
    "print(sess.run(x))\n",
    "print(\"tf.sign(x)\")\n",
    "print(sess.run(tf.sign(x)))\n",
    "print(\"(tf.sign(x)+1)/2\")\n",
    "print(sess.run((tf.sign(x)+1)/2))"
   ]
  },
  {
   "cell_type": "markdown",
   "metadata": {
    "deletable": true,
    "editable": true
   },
   "source": [
    "# tf.nn.moments"
   ]
  },
  {
   "cell_type": "code",
   "execution_count": 7,
   "metadata": {
    "collapsed": false,
    "deletable": true,
    "editable": true
   },
   "outputs": [
    {
     "name": "stdout",
     "output_type": "stream",
     "text": [
      "Tensor(\"hi_4/hi_1/mean:0\", shape=(3,), dtype=float32)\n",
      "Tensor(\"hi_4/hi_1/variance:0\", shape=(3,), dtype=float32)\n",
      "[ 2.   3.   4.5]\n",
      "[ 1.    1.    0.25]\n",
      "(array([ 4.        ,  2.33333325], dtype=float32), array([ 0.66666669,  1.5555557 ], dtype=float32))\n",
      "(3.1666667, 1.8055556)\n"
     ]
    }
   ],
   "source": [
    "x = tf.constant([[3,4,5],[1,2,4]],dtype = tf.float32)\n",
    "mean, var = tf.nn.moments(x,[0], name = 'hi')\n",
    "print(mean)\n",
    "print(var)\n",
    "print(sess.run(mean))\n",
    "print(sess.run(var))\n",
    "print(sess.run(tf.nn.moments(x,[1],name = 'hi2')))\n",
    "print(sess.run(tf.nn.moments(x,[0,1],name = 'hi2')))"
   ]
  },
  {
   "cell_type": "markdown",
   "metadata": {
    "deletable": true,
    "editable": true
   },
   "source": [
    "# tf.range, tf.size, tf.gather"
   ]
  },
  {
   "cell_type": "code",
   "execution_count": 3,
   "metadata": {
    "collapsed": false,
    "deletable": true,
    "editable": true
   },
   "outputs": [
    {
     "name": "stdout",
     "output_type": "stream",
     "text": [
      "x\n",
      "[3 4 5 6]\n",
      "tf.size(x)\n",
      "4\n",
      "tf.range(0,tf.size(x))\n",
      "[0 1 2 3]\n",
      "tf.gather(x, [1,2,2,1])\n",
      "[4 5 5 4]\n",
      "tf.gather(x, [1,3,0])\n",
      "[4 6 3]\n"
     ]
    }
   ],
   "source": [
    "x = tf.constant([3,4,5,6])\n",
    "print(\"x\")\n",
    "print(sess.run(x))\n",
    "print(\"tf.size(x)\")\n",
    "print(sess.run(tf.size(x)))\n",
    "print(\"tf.range(0,tf.size(x))\")\n",
    "print(sess.run(tf.range(0, tf.size(x))))\n",
    "print(\"tf.gather(x, [1,2,2,1])\")\n",
    "print(sess.run(tf.gather(x,[1,2,2,1])))\n",
    "print(\"tf.gather(x, [1,3,0])\")\n",
    "print(sess.run(tf.gather(x,[1,3,0])))"
   ]
  },
  {
   "cell_type": "markdown",
   "metadata": {
    "deletable": true,
    "editable": true
   },
   "source": [
    "# tf.assign(ref, value, validate_shape, use_locking)\n",
    "    ref : a mutable tensor variable, may be unitialized\n",
    "    value : a Tensor, same time as ref the value assigned to variable\n",
    "    validate shape : default true, ture the shape of 'value' matches the shape of the tensor assigned \n",
    "                    otherwise shape of 'ref' = shape of 'value'\n",
    "    "
   ]
  },
  {
   "cell_type": "code",
   "execution_count": 2,
   "metadata": {
    "collapsed": false,
    "deletable": true,
    "editable": true
   },
   "outputs": [
    {
     "name": "stdout",
     "output_type": "stream",
     "text": [
      "[ 2.  3.  4.]\n",
      "[ 2.  3.  4.]\n"
     ]
    }
   ],
   "source": [
    "x = tf.Variable([1.], name = 'x')\n",
    "x_op = tf.assign(x, [2.,3.,4.], validate_shape=False,name= 'tempx')\n",
    "sess.run(tf.global_variables_initializer())\n",
    "print(sess.run(x_op))\n",
    "print(sess.run(x))"
   ]
  },
  {
   "cell_type": "markdown",
   "metadata": {
    "deletable": true,
    "editable": true
   },
   "source": [
    "# tf.control_dependencies"
   ]
  },
  {
   "cell_type": "code",
   "execution_count": 2,
   "metadata": {
    "collapsed": false,
    "deletable": true,
    "editable": true
   },
   "outputs": [
    {
     "name": "stdout",
     "output_type": "stream",
     "text": [
      "[ 3.]\n",
      "[ 2.]\n"
     ]
    }
   ],
   "source": [
    "x = tf.Variable([1.])\n",
    "x_op = tf.assign(x, [2.])\n",
    "with tf.control_dependencies([x_op]):\n",
    "    y = tf.add(x, [1.])\n",
    "sess.run(tf.global_variables_initializer())\n",
    "print(sess.run(y))\n",
    "print(sess.run(x))"
   ]
  },
  {
   "cell_type": "code",
   "execution_count": 3,
   "metadata": {
    "collapsed": false,
    "deletable": true,
    "editable": true
   },
   "outputs": [
    {
     "name": "stdout",
     "output_type": "stream",
     "text": [
      "[ 2.]\n",
      "[ 1.]\n",
      "[ 2.]\n",
      "[ 2.]\n",
      "[ 3.]\n"
     ]
    }
   ],
   "source": [
    "x = tf.Variable([1.])\n",
    "x_op = tf.assign(x, [2.])\n",
    "y = tf.add(x, [1.])\n",
    "sess.run(tf.global_variables_initializer())\n",
    "print(sess.run(y))\n",
    "print(sess.run(x))\n",
    "print(sess.run(x_op))\n",
    "print(sess.run(x))\n",
    "print(sess.run(y))"
   ]
  },
  {
   "cell_type": "markdown",
   "metadata": {
    "deletable": true,
    "editable": true
   },
   "source": [
    "# tf.get_default_graph"
   ]
  },
  {
   "cell_type": "code",
   "execution_count": 12,
   "metadata": {
    "collapsed": false,
    "deletable": true,
    "editable": true
   },
   "outputs": [
    {
     "name": "stdout",
     "output_type": "stream",
     "text": [
      "<tensorflow.python.framework.ops.Graph object at 0x7fdf14a8c208>\n",
      "<tensorflow.python.framework.ops.Graph object at 0x7fdf14a8c208>\n"
     ]
    }
   ],
   "source": [
    "c = tf.constant(4.0)\n",
    "print(c.graph)\n",
    "print(tf.get_default_graph())"
   ]
  },
  {
   "cell_type": "markdown",
   "metadata": {
    "deletable": true,
    "editable": true
   },
   "source": [
    "# tf.is_inf, tf.is_finite, tf.is_nan\n",
    "    Must be float in tf.log"
   ]
  },
  {
   "cell_type": "code",
   "execution_count": 3,
   "metadata": {
    "collapsed": false,
    "deletable": true,
    "editable": true
   },
   "outputs": [
    {
     "name": "stdout",
     "output_type": "stream",
     "text": [
      "True\n",
      "False\n",
      "True\n",
      "True\n",
      "False\n"
     ]
    }
   ],
   "source": [
    "print(sess.run(tf.is_inf(tf.log(0.0))))\n",
    "print(sess.run(tf.is_inf(tf.log(0.5))))\n",
    "print(sess.run(tf.is_finite(1.0)))\n",
    "print(sess.run(tf.is_nan(-tf.log(-1.0))))\n",
    "print(sess.run(tf.is_nan(-tf.log(1.0))))"
   ]
  },
  {
   "cell_type": "markdown",
   "metadata": {
    "deletable": true,
    "editable": true
   },
   "source": [
    "# tf.identity"
   ]
  },
  {
   "cell_type": "code",
   "execution_count": 8,
   "metadata": {
    "collapsed": false,
    "deletable": true,
    "editable": true
   },
   "outputs": [
    {
     "name": "stdout",
     "output_type": "stream",
     "text": [
      "2.0\n",
      "2.0\n"
     ]
    }
   ],
   "source": [
    "x = tf.constant(2.0)\n",
    "y = tf.identity(x)\n",
    "print(sess.run(x))\n",
    "print(sess.run(y))"
   ]
  },
  {
   "cell_type": "markdown",
   "metadata": {
    "deletable": true,
    "editable": true
   },
   "source": [
    "# tf.cond"
   ]
  },
  {
   "cell_type": "code",
   "execution_count": 9,
   "metadata": {
    "collapsed": false,
    "deletable": true,
    "editable": true
   },
   "outputs": [
    {
     "name": "stdout",
     "output_type": "stream",
     "text": [
      "Tensor(\"cond/Merge:0\", shape=(), dtype=int32)\n",
      "34\n"
     ]
    }
   ],
   "source": [
    "x = tf.constant(2)\n",
    "y = tf.constant(5)\n",
    "def f1(): \n",
    "    return tf.multiply(x, 17)\n",
    "def f2(): \n",
    "    return tf.add(y, 23)\n",
    "r = tf.cond(tf.less(x, y), f1, f2)\n",
    "print(r)\n",
    "print(sess.run(r))"
   ]
  },
  {
   "cell_type": "markdown",
   "metadata": {
    "deletable": true,
    "editable": true
   },
   "source": [
    "# tf.clip_by_value()"
   ]
  },
  {
   "cell_type": "code",
   "execution_count": 4,
   "metadata": {
    "collapsed": false,
    "deletable": true,
    "editable": true
   },
   "outputs": [
    {
     "name": "stdout",
     "output_type": "stream",
     "text": [
      "3\n",
      "5\n",
      "4\n"
     ]
    }
   ],
   "source": [
    "print(sess.run(tf.clip_by_value(0, clip_value_max=5, clip_value_min=3)))\n",
    "print(sess.run(tf.clip_by_value(7, clip_value_max=5, clip_value_min=3)))\n",
    "print(sess.run(tf.clip_by_value(4, clip_value_max=5, clip_value_min=3)))"
   ]
  },
  {
   "cell_type": "markdown",
   "metadata": {
    "deletable": true,
    "editable": true
   },
   "source": [
    "# tf.train.exponential_decay() and global_step\n",
    "decayed_learning_rate = learning_rate * decay_rate ^ (global_step / decay_steps)    \n",
    "\n",
    "learning_rate:  The initial learning rate.  \n",
    "global_step: Global step to use for the decay computation. Must not be negative.  \n",
    "decay_steps:  Must be positive. See the decay computation above.  \n",
    "decay_rate: A scalar float32 or float64 Tensor or a Python number. The decay rate.\n",
    "staircase: Boolean. It True decay the learning rate at discrete intervals\n",
    "name: String. Optional name of the operation. Defaults to 'ExponentialDecay'"
   ]
  },
  {
   "cell_type": "code",
   "execution_count": 2,
   "metadata": {
    "collapsed": false,
    "deletable": true,
    "editable": true
   },
   "outputs": [
    {
     "name": "stdout",
     "output_type": "stream",
     "text": [
      "Only train_variable : Tensor(\"w/read:0\", shape=(1,), dtype=float32)\n",
      "[-0.18229818]\n",
      "[ 0.61625671]\n",
      "i | global_step | learning_rate\n",
      "0 |          1|0.10000000149011612|\n",
      "i | global_step | learning_rate\n",
      "1 |          2|0.09600000083446503|\n",
      "i | global_step | learning_rate\n",
      "2 |          3|0.09600000083446503|\n",
      "i | global_step | learning_rate\n",
      "3 |          4|0.09216000139713287|\n",
      "i | global_step | learning_rate\n",
      "4 |          5|0.09216000139713287|\n",
      "i | global_step | learning_rate\n",
      "5 |          6|0.0884735956788063|\n",
      "i | global_step | learning_rate\n",
      "6 |          7|0.0884735956788063|\n",
      "i | global_step | learning_rate\n",
      "7 |          8|0.08493465185165405|\n",
      "i | global_step | learning_rate\n",
      "8 |          9|0.08493465185165405|\n",
      "i | global_step | learning_rate\n",
      "9 |          10|0.08153726160526276|\n",
      "[ 0.73588997]\n",
      "[ 0.61625671]\n"
     ]
    }
   ],
   "source": [
    "x_data = [1., 2., 3.]\n",
    "y_data = [1., 2., 3.]\n",
    "\n",
    "w = tf.Variable(tf.random_uniform([1], -1.0, 1.0),name ='w')\n",
    "b = tf.Variable(tf.random_uniform([1], -1.0, 1.0),name ='b')\n",
    "\n",
    "hypothesis = w * x_data + b\n",
    "cost = tf.reduce_mean(tf.square(hypothesis - y_data))\n",
    "global_step = tf.Variable(0, trainable=False)\n",
    "learning_rate = tf.train.exponential_decay(learning_rate= 0.1, global_step= global_step,\n",
    "                                        decay_steps = 2, decay_rate = 0.96, staircase=True)\n",
    "\n",
    "#train only w not b\n",
    "var_list = []\n",
    "var_list.append(tf.get_collection(\"trainable_variables\")[0])\n",
    "print(\"Only train_variable : {}\".format(var_list[0]))\n",
    "\n",
    "train = tf.train.GradientDescentOptimizer(learning_rate).minimize(loss = cost\n",
    "                                                                  ,global_step=global_step\n",
    "                                                                 ,var_list = var_list\n",
    "                                                                  #,var_list = tf.get_collection(\"trainable_variables\")\n",
    "                                                                 )\n",
    "init = tf.global_variables_initializer()\n",
    "sess = tf.Session()\n",
    "sess.run(init)\n",
    "print(sess.run(w))\n",
    "print(sess.run(b))\n",
    "for step in range(10):\n",
    "    sess.run(train)\n",
    "    print(\"i | global_step | learning_rate\")\n",
    "    print(\"{} |          {}|{}|\".format(step, sess.run(global_step), sess.run(learning_rate)))\n",
    "print(sess.run(w))\n",
    "print(sess.run(b))"
   ]
  },
  {
   "cell_type": "markdown",
   "metadata": {
    "deletable": true,
    "editable": true
   },
   "source": [
    "# tf.nn.conv2d_transpose"
   ]
  },
  {
   "cell_type": "code",
   "execution_count": 5,
   "metadata": {
    "collapsed": false,
    "deletable": true,
    "editable": true
   },
   "outputs": [
    {
     "name": "stdout",
     "output_type": "stream",
     "text": [
      "Input : (1, 4, 4, 1)\n",
      "[[ 1.  2.  1.  2.]\n",
      " [ 2.  6.  2.  6.]\n",
      " [ 1.  2.  1.  2.]\n",
      " [ 2.  6.  2.  6.]]\n",
      "Filter : (2, 2, 1, 1)\n",
      "[[ 0.  1.]\n",
      " [-1.  0.]]\n",
      "Output : (1, 4, 4, 1)\n",
      "[[ 0.  1.  2.  1.]\n",
      " [-1.  0.  5.  0.]\n",
      " [-2. -5.  0. -5.]\n",
      " [-1.  0.  5.  0.]]\n",
      "Output : (1, 7, 7, 1)\n",
      "[[ 0.  1.  0.  2.  0.  1.  0.]\n",
      " [-1.  0. -2.  0. -1.  0. -2.]\n",
      " [ 0.  2.  0.  6.  0.  2.  0.]\n",
      " [-2.  0. -6.  0. -2.  0. -6.]\n",
      " [ 0.  1.  0.  2.  0.  1.  0.]\n",
      " [-1.  0. -2.  0. -1.  0. -2.]\n",
      " [ 0.  2.  0.  6.  0.  2.  0.]]\n",
      "Output : (1, 8, 8, 1)\n",
      "[[ 0.  1.  0.  2.  0.  1.  0.  2.]\n",
      " [-1.  0. -2.  0. -1.  0. -2.  0.]\n",
      " [ 0.  2.  0.  6.  0.  2.  0.  6.]\n",
      " [-2.  0. -6.  0. -2.  0. -6.  0.]\n",
      " [ 0.  1.  0.  2.  0.  1.  0.  2.]\n",
      " [-1.  0. -2.  0. -1.  0. -2.  0.]\n",
      " [ 0.  2.  0.  6.  0.  2.  0.  6.]\n",
      " [-2.  0. -6.  0. -2.  0. -6.  0.]]\n",
      "Output : (1, 10, 10, 1)\n",
      "[[ 0.  1.  0.  0.  2.  0.  0.  1.  0.  0.]\n",
      " [-1.  0.  0. -2.  0.  0. -1.  0.  0. -2.]\n",
      " [ 0.  0.  0.  0.  0.  0.  0.  0.  0.  0.]\n",
      " [ 0.  2.  0.  0.  6.  0.  0.  2.  0.  0.]\n",
      " [-2.  0.  0. -6.  0.  0. -2.  0.  0. -6.]\n",
      " [ 0.  0.  0.  0.  0.  0.  0.  0.  0.  0.]\n",
      " [ 0.  1.  0.  0.  2.  0.  0.  1.  0.  0.]\n",
      " [-1.  0.  0. -2.  0.  0. -1.  0.  0. -2.]\n",
      " [ 0.  0.  0.  0.  0.  0.  0.  0.  0.  0.]\n",
      " [ 0.  2.  0.  0.  6.  0.  0.  2.  0.  0.]]\n"
     ]
    }
   ],
   "source": [
    "x = tf.constant([[1, 2],[2, 6]], dtype = tf.float32)\n",
    "x = tf.tile(x,[2,2])\n",
    "y = tf.constant([[0,1],[-1,0]], dtype = tf.float32)\n",
    "x_r = tf.reshape(x, [1,4,4,1])\n",
    "y_r = tf.reshape(y, [2,2,1,1])\n",
    "print(\"Input : {}\".format(x_r.get_shape()))\n",
    "print(sess.run(x))\n",
    "print(\"Filter : {}\".format(y_r.get_shape()))\n",
    "print(sess.run(y))\n",
    "conv = tf.nn.conv2d_transpose(x_r, y_r, strides = [1,1,1,1], output_shape= [1,4,4,1], padding='SAME')\n",
    "print(\"Output : {}\".format(conv.get_shape()))\n",
    "print(sess.run(tf.reshape(conv, [4, 4])))\n",
    "conv = tf.nn.conv2d_transpose(x_r, y_r, strides = [1,2,2,1], output_shape= [1,7,7,1], padding='SAME')\n",
    "print(\"Output : {}\".format(conv.get_shape()))\n",
    "print(sess.run(tf.reshape(conv, [7, 7])))\n",
    "conv = tf.nn.conv2d_transpose(x_r, y_r, strides = [1,2,2,1], output_shape= [1,8,8,1], padding='SAME')\n",
    "print(\"Output : {}\".format(conv.get_shape()))\n",
    "print(sess.run(tf.reshape(conv, [8, 8])))\n",
    "conv = tf.nn.conv2d_transpose(x_r, y_r, strides = [1,3,3,1], output_shape= [1,10,10,1], padding='SAME')\n",
    "print(\"Output : {}\".format(conv.get_shape()))\n",
    "print(sess.run(tf.reshape(conv, [10, 10])))\n",
    "\n",
    "#print(sess.run(tf.nn.conv2d_transpose(x_r, y_r, strides = [1,2,2,1], output_shape= [1,7,7,1], padding='SAME')))\n",
    "#print(sess.run(tf.nn.conv2d_transpose(x_r, y_r, strides = [1,2,2,1], output_shape= [1,8,8,1], padding='SAME')))\n",
    "#print(sess.run(tf.nn.conv2d_transpose(x_r, y_r, strides = [1,3,3,1], output_shape= [1,10,10,1], padding='SAME')))"
   ]
  },
  {
   "cell_type": "markdown",
   "metadata": {
    "deletable": true,
    "editable": true
   },
   "source": [
    "# tf.nn.conv2d\n",
    "\n",
    "**Data format** Default to be 'NHWC'\n",
    ">* 'NHWC' None(batch) height width channel\n",
    ">* 'NCHW' None(batch) channel height width\n",
    "\n",
    "input :  [batch, height, width, inchannel]  \n",
    "filter : [filter-height, filter-width, inchannel, outchannel]"
   ]
  },
  {
   "cell_type": "code",
   "execution_count": 3,
   "metadata": {
    "collapsed": false,
    "deletable": true,
    "editable": true
   },
   "outputs": [
    {
     "name": "stdout",
     "output_type": "stream",
     "text": [
      "Input : (1, 4, 4, 1)\n",
      "[[ 1.  2.  1.  2.]\n",
      " [ 2.  6.  2.  6.]\n",
      " [ 1.  2.  1.  2.]\n",
      " [ 2.  6.  2.  6.]]\n",
      "Filter : (2, 2, 1, 1)\n",
      "[[ 0.  1.]\n",
      " [-1.  0.]]\n",
      "[[ 0. -5.  0. -6.]\n",
      " [ 5.  0.  5. -2.]\n",
      " [ 0. -5.  0. -6.]\n",
      " [ 6.  2.  6.  0.]]\n",
      "[[ 0. -5.  0.]\n",
      " [ 5.  0.  5.]\n",
      " [ 0. -5.  0.]]\n"
     ]
    }
   ],
   "source": [
    "x = tf.constant([[1,2],[2,6]], dtype = tf.float32)\n",
    "x = tf.tile(x,[2,2])\n",
    "y = tf.constant([[0,1],[-1,0]], dtype = tf.float32)\n",
    "x_r = tf.reshape(x, [1,4,4,1])\n",
    "y_r = tf.reshape(y, [2,2,1,1])\n",
    "print(\"Input : {}\".format(x_r.get_shape()))\n",
    "print(sess.run(x))\n",
    "print(\"Filter : {}\".format(y_r.get_shape()))\n",
    "print(sess.run(y))\n",
    "conv = tf.nn.conv2d(input= x_r, filter = y_r\n",
    "                    , strides=[1,1,1,1], padding = 'SAME')\n",
    "print(sess.run(tf.reshape(conv, [4, 4])))\n",
    "conv2 = tf.nn.conv2d(input= x_r, filter = y_r\n",
    "                     , strides=[1,1,1,1], padding = 'VALID')\n",
    "print(sess.run(tf.reshape(conv2, [3, 3])))"
   ]
  },
  {
   "cell_type": "markdown",
   "metadata": {
    "deletable": true,
    "editable": true
   },
   "source": [
    "# tf.concat"
   ]
  },
  {
   "cell_type": "code",
   "execution_count": 4,
   "metadata": {
    "collapsed": false,
    "deletable": true,
    "editable": true
   },
   "outputs": [
    {
     "name": "stdout",
     "output_type": "stream",
     "text": [
      "x : (2, 3)\n",
      "y : (2, 2)\n",
      "tf.concat([x,y],1) : (2, 5)\n",
      "[[ 1.  3.  4.  1.  2.]\n",
      " [ 2.  5.  6.  3.  4.]]\n"
     ]
    }
   ],
   "source": [
    "x = tf.constant([[1.,3.,4.],[2.,5.,6.]])\n",
    "print(\"x : {}\".format(x.get_shape()))\n",
    "y = tf.constant([[1.,2.],[3.,4.]])\n",
    "print(\"y : {}\".format(y.get_shape()))\n",
    "z = tf.concat([x,y], 1)\n",
    "print(\"tf.concat([x,y],1) : {}\".format(z.get_shape()))\n",
    "print(sess.run(z))"
   ]
  },
  {
   "cell_type": "markdown",
   "metadata": {
    "deletable": true,
    "editable": true
   },
   "source": [
    "# tf.exp"
   ]
  },
  {
   "cell_type": "code",
   "execution_count": 11,
   "metadata": {
    "collapsed": false,
    "deletable": true,
    "editable": true
   },
   "outputs": [
    {
     "name": "stdout",
     "output_type": "stream",
     "text": [
      "x\n",
      "1.0\n",
      "tf.exp(x)\n",
      "2.71828\n"
     ]
    }
   ],
   "source": [
    "x = tf.constant(1, dtype = tf.float32)\n",
    "print(\"x\")\n",
    "print(sess.run(x))\n",
    "print('tf.exp(x)')\n",
    "print(sess.run(tf.exp(x)))"
   ]
  },
  {
   "cell_type": "markdown",
   "metadata": {
    "deletable": true,
    "editable": true
   },
   "source": [
    "# tf.nn.softmax"
   ]
  },
  {
   "cell_type": "code",
   "execution_count": 6,
   "metadata": {
    "collapsed": false,
    "deletable": true,
    "editable": true
   },
   "outputs": [
    {
     "name": "stdout",
     "output_type": "stream",
     "text": [
      "x\n",
      "[[ 1.  3.  4.]\n",
      " [ 2.  5.  6.]]\n",
      "tf.nn.softmax(x, dim=-1)\n",
      "[[ 0.03511902  0.25949645  0.70538449]\n",
      " [ 0.01321289  0.26538792  0.72139919]]\n",
      "tf.nn.softmax(x, dim=0)\n",
      "[[ 0.26894143  0.11920291  0.11920291]\n",
      " [ 0.7310586   0.88079703  0.88079703]]\n"
     ]
    }
   ],
   "source": [
    "x = tf.constant([[1.,3.,4.],[2.,5.,6.]])\n",
    "print(\"x\")\n",
    "print(sess.run(x))\n",
    "print(\"tf.nn.softmax(x, dim=-1)\")\n",
    "print(sess.run(tf.nn.softmax(x,dim=-1)))\n",
    "print(\"tf.nn.softmax(x, dim=0)\")\n",
    "print(sess.run(tf.nn.softmax(x,dim=0)))"
   ]
  },
  {
   "cell_type": "markdown",
   "metadata": {
    "deletable": true,
    "editable": true
   },
   "source": [
    "# tf.nn.sigmoid_cross_entropy_with_logits"
   ]
  },
  {
   "cell_type": "code",
   "execution_count": 4,
   "metadata": {
    "collapsed": false,
    "deletable": true,
    "editable": true
   },
   "outputs": [
    {
     "name": "stdout",
     "output_type": "stream",
     "text": [
      "x\n",
      "[[1.0, 3.0, 4.0], [2.0, 5.0, 6.0]]\n",
      "x_true\n",
      "[[1.0, 1.0, 0.0], [0.0, 1.0, 0.0]]\n",
      "tf.sigmoid(x)\n",
      "[[ 0.7310586   0.95257413  0.98201376]\n",
      " [ 0.88079703  0.99330717  0.99752742]]\n",
      "First method\n",
      "[[ 0.31326166  0.04858734  4.01814842]\n",
      " [ 2.12692761  0.00671532  6.00249338]]\n",
      "Second method\n",
      "[[ 0.31326169  0.04858735  4.01814985]\n",
      " [ 2.12692809  0.00671535  6.00247574]]\n"
     ]
    }
   ],
   "source": [
    "x = [[1.,3.,4.],[2.,5.,6.]]\n",
    "print(\"x\")\n",
    "print(x)\n",
    "x_true = [[1.,1.,0.],[0.,1.,0.]]\n",
    "print(\"x_true\")\n",
    "print(x_true)\n",
    "x_sigmoid = tf.sigmoid(x)\n",
    "print(\"tf.sigmoid(x)\")\n",
    "print(sess.run(x_sigmoid))\n",
    "print(\"First method\")\n",
    "ones = tf.ones_like(x_sigmoid)\n",
    "print(-sess.run(x_true*tf.log(x_sigmoid)+(ones-x_true)*tf.log(ones-x_sigmoid)))\n",
    "print(\"Second method\")\n",
    "print(sess.run(tf.nn.sigmoid_cross_entropy_with_logits(labels = x_true, logits= x)))"
   ]
  },
  {
   "cell_type": "markdown",
   "metadata": {
    "deletable": true,
    "editable": true
   },
   "source": [
    "# normalize with tf.reduce_mean"
   ]
  },
  {
   "cell_type": "code",
   "execution_count": 19,
   "metadata": {
    "collapsed": false,
    "deletable": true,
    "editable": true
   },
   "outputs": [
    {
     "name": "stdout",
     "output_type": "stream",
     "text": [
      "[[-1  0  1]\n",
      " [ 2  3  4]]\n",
      "[[2 3 4]\n",
      " [5 6 7]]\n",
      "[[ 3  5  7]\n",
      " [ 6  8 10]]\n"
     ]
    }
   ],
   "source": [
    "x = tf.constant([[1,2,3],[4,5,6]])\n",
    "y = tf.constant([2,2,2])\n",
    "print(sess.run(x-y))\n",
    "print(sess.run(x+[1]))\n",
    "print(sess.run(x+[2,3,4]))"
   ]
  },
  {
   "cell_type": "code",
   "execution_count": 24,
   "metadata": {
    "collapsed": false,
    "deletable": true,
    "editable": true
   },
   "outputs": [
    {
     "name": "stdout",
     "output_type": "stream",
     "text": [
      "x : (2, 3)\n",
      "mean = tf.reduce_mean(x,[0])\n",
      "[ 2.5  3.5  4.5]\n",
      "x_mean\n",
      "[[-1.5 -1.5 -1.5]\n",
      " [ 1.5  1.5  1.5]]\n",
      "std =tf.reduce_mean(tf.square(x-mean),[0])\n",
      "[ 2.25  2.25  2.25]\n"
     ]
    }
   ],
   "source": [
    "x = tf.constant([[1,2,3],[4,5,6]], dtype = tf.float32)\n",
    "print(\"x : {}\".format(sess.run(x).shape))\n",
    "mean = tf.reduce_mean(x,[0])\n",
    "print(\"mean = tf.reduce_mean(x,[0])\")\n",
    "print(sess.run(mean))\n",
    "print(\"x_mean\")\n",
    "print(sess.run(x-mean))\n",
    "std =tf.reduce_mean(tf.square(x-mean),[0])\n",
    "print(\"std =tf.reduce_mean(tf.square(x-mean),[0])\")\n",
    "print(sess.run(std))"
   ]
  },
  {
   "cell_type": "markdown",
   "metadata": {
    "deletable": true,
    "editable": true
   },
   "source": [
    "# get_shape(), get_shape().as_list(), get_shape.ndims"
   ]
  },
  {
   "cell_type": "code",
   "execution_count": 3,
   "metadata": {
    "collapsed": false,
    "deletable": true,
    "editable": true
   },
   "outputs": [
    {
     "name": "stdout",
     "output_type": "stream",
     "text": [
      "x : (2, 3)\n",
      "[[1 2 3]\n",
      " [4 5 6]]\n",
      "x.get_shape().ndims\n",
      "2\n",
      "tf.expand_dims(x, dim=1).get_shape().ndims\n",
      "3\n",
      "Can get shape of variabless\n",
      "a = tf.Variable(x)\n",
      "a.get_shape()\n",
      "(2, 3)\n",
      "2\n",
      "[2, 3]\n",
      "<class 'list'>\n"
     ]
    }
   ],
   "source": [
    "x = tf.constant([[1,2,3],[4,5,6]])\n",
    "print(\"x : {}\".format(x.get_shape()))\n",
    "print(sess.run(x))\n",
    "print(\"x.get_shape().ndims\")\n",
    "print(x.get_shape().ndims)\n",
    "print(\"tf.expand_dims(x, dim=1).get_shape().ndims\")\n",
    "print(tf.expand_dims(x, dim=1).get_shape().ndims)\n",
    "print(\"Can get shape of variabless\")\n",
    "a= tf.Variable(x)\n",
    "print(\"a = tf.Variable(x)\")\n",
    "print(\"a.get_shape()\")\n",
    "print(a.get_shape())\n",
    "print(a.get_shape()[0])\n",
    "print(a.get_shape().as_list())\n",
    "print(type(a.get_shape().as_list()))"
   ]
  },
  {
   "cell_type": "markdown",
   "metadata": {
    "deletable": true,
    "editable": true
   },
   "source": [
    "# tf.shape() v.s. get_shape()"
   ]
  },
  {
   "cell_type": "code",
   "execution_count": 2,
   "metadata": {
    "collapsed": false,
    "deletable": true,
    "editable": true
   },
   "outputs": [
    {
     "name": "stdout",
     "output_type": "stream",
     "text": [
      "Tensor(\"Shape:0\", shape=(2,), dtype=int32)\n",
      "(2, 2)\n",
      "Tensor(\"Shape_1:0\", shape=(2,), dtype=int32)\n",
      "(2, 2)\n",
      "<class 'list'>\n",
      "[2, 2]\n",
      "[2 2]\n"
     ]
    }
   ],
   "source": [
    "variable = tf.Variable([[1,2],[3,4]])\n",
    "constant = tf.constant([[1,2],[3,4]])\n",
    "s_v = tf.shape(variable)\n",
    "g_v = variable.get_shape()\n",
    "s_c = tf.shape(constant)\n",
    "g_c = variable.get_shape()\n",
    "print(s_v)\n",
    "print(g_v)\n",
    "print(s_c)\n",
    "print(g_c)\n",
    "\n",
    "print(sess.run(s_v))"
   ]
  },
  {
   "cell_type": "markdown",
   "metadata": {
    "deletable": true,
    "editable": true
   },
   "source": [
    "# tf.tile()"
   ]
  },
  {
   "cell_type": "code",
   "execution_count": 8,
   "metadata": {
    "collapsed": false,
    "deletable": true,
    "editable": true
   },
   "outputs": [
    {
     "name": "stdout",
     "output_type": "stream",
     "text": [
      "x : (2, 3)\n",
      "[[1 2 3]\n",
      " [4 5 6]]\n",
      "tf.tile(x,[2,3]): (4, 9)\n",
      "[[1 2 3 1 2 3 1 2 3]\n",
      " [4 5 6 4 5 6 4 5 6]\n",
      " [1 2 3 1 2 3 1 2 3]\n",
      " [4 5 6 4 5 6 4 5 6]]\n"
     ]
    }
   ],
   "source": [
    "x = tf.constant([[1,2,3],[4,5,6]])\n",
    "print(\"x : {}\".format(sess.run(x).shape))\n",
    "print(sess.run(x))\n",
    "print(\"tf.tile(x,[2,3]): {}\".format(sess.run(tf.tile(x,[2,3])).shape))\n",
    "print(sess.run(tf.tile(x,[2,3])))"
   ]
  },
  {
   "cell_type": "markdown",
   "metadata": {
    "deletable": true,
    "editable": true
   },
   "source": [
    "# tf.expand_dims"
   ]
  },
  {
   "cell_type": "code",
   "execution_count": 10,
   "metadata": {
    "collapsed": false,
    "deletable": true,
    "editable": true,
    "scrolled": true
   },
   "outputs": [
    {
     "name": "stdout",
     "output_type": "stream",
     "text": [
      "x : (2, 3)\n",
      "[[1 2 3]\n",
      " [4 5 6]]\n",
      "tf.expand_dims(x, dim=1) : (2, 1, 3)\n",
      "[[[1 2 3]]\n",
      "\n",
      " [[4 5 6]]]\n",
      "tf.expand_dims(x, dim=0) : (1, 2, 3)\n",
      "[[[1 2 3]\n",
      "  [4 5 6]]]\n",
      "tf.expand_dims(x, dim=2) : (2, 3, 1)\n",
      "[[[1]\n",
      "  [2]\n",
      "  [3]]\n",
      "\n",
      " [[4]\n",
      "  [5]\n",
      "  [6]]]\n",
      "tf.expand_dims(x, dim=-1) : (2, 3, 1)\n",
      "[[[1]\n",
      "  [2]\n",
      "  [3]]\n",
      "\n",
      " [[4]\n",
      "  [5]\n",
      "  [6]]]\n"
     ]
    },
    {
     "data": {
      "text/plain": [
       "'\\nprint(\"tf.expand_dims(x, dim=3) : {}\".format(sess.run(tf.expand_dims(x, dim=3)).shape))\\nprint(sess.run(tf.expand_dims(x, dim=3)))\\nError occured\\n'"
      ]
     },
     "execution_count": 10,
     "metadata": {},
     "output_type": "execute_result"
    }
   ],
   "source": [
    "x = tf.constant([[1,2,3],[4,5,6]])\n",
    "print(\"x : {}\".format(sess.run(x).shape))\n",
    "print(sess.run(x))\n",
    "print(\"tf.expand_dims(x, dim=1) : {}\".format(sess.run(tf.expand_dims(x, dim=1)).shape))\n",
    "print(sess.run(tf.expand_dims(x, dim=1)))\n",
    "print(\"tf.expand_dims(x, dim=0) : {}\".format(sess.run(tf.expand_dims(x, dim=0)).shape))\n",
    "print(sess.run(tf.expand_dims(x, dim=0)))\n",
    "print(\"tf.expand_dims(x, dim=2) : {}\".format(sess.run(tf.expand_dims(x, dim=2)).shape))\n",
    "print(sess.run(tf.expand_dims(x, dim=2)))\n",
    "print(\"tf.expand_dims(x, dim=-1) : {}\".format(sess.run(tf.expand_dims(x, dim=-1)).shape))\n",
    "print(sess.run(tf.expand_dims(x, dim=-1)))\n",
    "'''\n",
    "print(\"tf.expand_dims(x, dim=3) : {}\".format(sess.run(tf.expand_dims(x, dim=3)).shape))\n",
    "print(sess.run(tf.expand_dims(x, dim=3)))\n",
    "Error occured\n",
    "'''\n"
   ]
  },
  {
   "cell_type": "markdown",
   "metadata": {
    "deletable": true,
    "editable": true
   },
   "source": [
    "# tf.stack, tf.unstack, tf.split"
   ]
  },
  {
   "cell_type": "code",
   "execution_count": 11,
   "metadata": {
    "collapsed": false,
    "deletable": true,
    "editable": true
   },
   "outputs": [
    {
     "name": "stdout",
     "output_type": "stream",
     "text": [
      "[[1 2 3]\n",
      " [4 5 6]]\n",
      "[array([1, 2, 3], dtype=int32), array([4, 5, 6], dtype=int32)]\n",
      "[array([[1, 2, 3]], dtype=int32), array([[4, 5, 6]], dtype=int32)]\n"
     ]
    }
   ],
   "source": [
    "v1 = tf.constant([1,2,3])\n",
    "v2 = tf.constant([4,5,6])\n",
    "t = tf.stack([v1,v2])\n",
    "print(sess.run(t))\n",
    "print(sess.run(tf.unstack(t)))\n",
    "print(sess.run(tf.split(t, 2, axis=0)))"
   ]
  },
  {
   "cell_type": "markdown",
   "metadata": {
    "deletable": true,
    "editable": true
   },
   "source": [
    "# tf.get_variable() v.s tf.variable"
   ]
  },
  {
   "cell_type": "code",
   "execution_count": 2,
   "metadata": {
    "collapsed": false,
    "deletable": true,
    "editable": true
   },
   "outputs": [
    {
     "name": "stdout",
     "output_type": "stream",
     "text": [
      "Tensor(\"v/read:0\", shape=(2, 3), dtype=float32)\n",
      "Tensor(\"v_1/read:0\", shape=(2, 3), dtype=float32)\n",
      "Tensor(\"v_2/read:0\", shape=(2, 3), dtype=float32)\n",
      "[[-0.58031696  0.24948798 -0.28777111]\n",
      " [-0.25976044 -1.17540312  2.15104508]]\n",
      "[2 3]\n",
      "[[-0.55646604 -0.19363521  1.92169797]\n",
      " [-0.73861814  0.67804688  0.74387604]]\n",
      "[[ 0.  0.  0.]\n",
      " [ 0.  0.  0.]]\n"
     ]
    }
   ],
   "source": [
    "# Bad example of defining the name of variables\n",
    "v = tf.Variable(tf.random_normal([2,3]), name='v')\n",
    "v2 = tf.Variable(tf.random_normal([2,3]), name='v')\n",
    "\n",
    "x = tf.get_variable('v', [2, 3], initializer= tf.constant_initializer(0.0))\n",
    "\n",
    "i = 0 \n",
    "while True:\n",
    "    try:\n",
    "        print(tf.get_collection('trainable_variables')[i])\n",
    "        i+=1\n",
    "    except IndexError:\n",
    "        break\n",
    "\n",
    "sess.run(tf.global_variables_initializer())\n",
    "\n",
    "print(sess.run(v))\n",
    "print(sess.run(tf.shape(v)))\n",
    "print(sess.run(v2))\n",
    "print(sess.run(x))"
   ]
  },
  {
   "cell_type": "markdown",
   "metadata": {
    "deletable": true,
    "editable": true
   },
   "source": [
    " # Share variables with scope"
   ]
  },
  {
   "cell_type": "code",
   "execution_count": 4,
   "metadata": {
    "collapsed": false,
    "deletable": true,
    "editable": true
   },
   "outputs": [
    {
     "name": "stdout",
     "output_type": "stream",
     "text": [
      "[[-0.30628705 -0.39645576 -0.4932133 ]\n",
      " [ 1.5868845  -0.87908548  0.93908131]]\n",
      "[[-0.30628705 -0.39645576 -0.4932133 ]\n",
      " [ 1.5868845  -0.87908548  0.93908131]]\n"
     ]
    }
   ],
   "source": [
    "with tf.variable_scope('hi') as scope:\n",
    "    v = tf.get_variable('a', [2,3],initializer= tf.random_normal_initializer())\n",
    "    scope.reuse_variables()\n",
    "    x = tf.get_variable('a', [2,3],initializer= tf.random_normal_initializer())\n",
    "    sess.run(tf.global_variables_initializer())\n",
    "    print(sess.run(v))\n",
    "    print(sess.run(x))\n",
    "    "
   ]
  },
  {
   "cell_type": "markdown",
   "metadata": {
    "deletable": true,
    "editable": true
   },
   "source": [
    "# tf.split()"
   ]
  },
  {
   "cell_type": "code",
   "execution_count": 3,
   "metadata": {
    "collapsed": false,
    "deletable": true,
    "editable": true
   },
   "outputs": [
    {
     "name": "stdout",
     "output_type": "stream",
     "text": [
      "[ 5 30]\n",
      "[5 4]\n",
      "[ 5 15]\n",
      "[ 5 11]\n",
      "[ 5 10]\n",
      "[ 3  5 10]\n",
      "[ 5  1 30]\n",
      "[5 4]\n",
      "[ 5 15]\n",
      "[ 5 11]\n"
     ]
    }
   ],
   "source": [
    "value = tf.random_normal([5,30],stddev=0.1)\n",
    "print(sess.run(tf.shape(value)))\n",
    "\n",
    "split0, split1, split2 = tf.split(value, [4, 15, 11], 1)\n",
    "print(sess.run(tf.shape(split0)))\n",
    "print(sess.run(tf.shape(split1)))\n",
    "print(sess.run(tf.shape(split2)))\n",
    "split0, split1, split2 = tf.split(value, 3, axis=1)\n",
    "print(sess.run(tf.shape(split0)))\n",
    "splits = tf.split(value, 3, axis=1)\n",
    "print(sess.run(tf.shape(splits)))\n",
    "splits = tf.split(value, 5, axis=0)\n",
    "print(sess.run(tf.shape(splits)))\n",
    "\n",
    "split = tf.split(value, [4, 15, 11], 1)\n",
    "print(sess.run(tf.shape(split[0])))\n",
    "print(sess.run(tf.shape(split[1])))\n",
    "print(sess.run(tf.shape(split[2])))"
   ]
  }
 ],
 "metadata": {
  "kernelspec": {
   "display_name": "Python 3",
   "language": "python",
   "name": "python3"
  },
  "language_info": {
   "codemirror_mode": {
    "name": "ipython",
    "version": 3
   },
   "file_extension": ".py",
   "mimetype": "text/x-python",
   "name": "python",
   "nbconvert_exporter": "python",
   "pygments_lexer": "ipython3",
   "version": "3.4.5"
  }
 },
 "nbformat": 4,
 "nbformat_minor": 2
}
