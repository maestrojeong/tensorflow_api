{
 "cells": [
  {
   "cell_type": "code",
   "execution_count": 1,
   "metadata": {
    "collapsed": true,
    "deletable": true,
    "editable": true
   },
   "outputs": [],
   "source": [
    "import tensorflow as tf\n",
    "import numpy as np"
   ]
  },
  {
   "cell_type": "code",
   "execution_count": 2,
   "metadata": {
    "collapsed": true,
    "deletable": true,
    "editable": true
   },
   "outputs": [],
   "source": [
    "sess=tf.Session()"
   ]
  },
  {
   "cell_type": "code",
   "execution_count": 3,
   "metadata": {
    "collapsed": false,
    "deletable": true,
    "editable": true
   },
   "outputs": [
    {
     "name": "stdout",
     "output_type": "stream",
     "text": [
      "[ 2 18]\n"
     ]
    }
   ],
   "source": [
    "x = tf.constant([1,3])\n",
    "y = tf.constant([2,6])\n",
    "print(sess.run(x*y))"
   ]
  },
  {
   "cell_type": "markdown",
   "metadata": {
    "deletable": true,
    "editable": true
   },
   "source": [
    "#  tf.nn.sparse_softmax_cross_entropy_with_logits"
   ]
  },
  {
   "cell_type": "code",
   "execution_count": 3,
   "metadata": {
    "collapsed": false,
    "deletable": true,
    "editable": true
   },
   "outputs": [
    {
     "name": "stdout",
     "output_type": "stream",
     "text": [
      "x\n",
      "[[ 0.5  1.5  0.1]\n",
      " [ 2.2  1.3  1.7]]\n",
      "x_true\n",
      "[[ 0.  1.  0.]\n",
      " [ 0.  0.  1.]]\n",
      "tf.nn.softmax_cross_entropy_with_logits\n",
      "[ 0.4790107   1.19967598]\n",
      "tf.nn.sparse_softmax_cross_entropy_with_logits\n",
      "[ 0.4790107   1.19967598]\n"
     ]
    }
   ],
   "source": [
    "x = tf.convert_to_tensor(np.array([[0.5, 1.5, 0.1],[2.2, 1.3, 1.7]]))\n",
    "#batch_size = 2 num_classes = 3\n",
    "print(\"x\")\n",
    "print(sess.run(x))\n",
    "x_true = tf.convert_to_tensor(np.array([[0.0, 1.0, 0.0],[0.0, 0.0, 1.0]]))\n",
    "print(\"x_true\")\n",
    "print(sess.run(x_true))\n",
    "print(\"tf.nn.softmax_cross_entropy_with_logits\")\n",
    "print(sess.run(tf.nn.softmax_cross_entropy_with_logits(labels= x_true, logits = x)))\n",
    "print(\"tf.nn.sparse_softmax_cross_entropy_with_logits\")\n",
    "print(sess.run(tf.nn.sparse_softmax_cross_entropy_with_logits(labels=[1,2], logits = x)))"
   ]
  },
  {
   "cell_type": "markdown",
   "metadata": {
    "deletable": true,
    "editable": true
   },
   "source": [
    "# tf.nn.softmax_cross_entropy_with_logits\n",
    " \n",
    " If using exclusive `labels` => see `sparse_softmax_cross_entropy_with_logits`.  \n",
    "  **WARNING:** \n",
    "1. op expects unscaled logits (Do not softmax before)  \n",
    "2. `logits` and `labels` must have the same shape `[batch_size, num_classes]`\n",
    "  and the same dtype (either `float16`, `float32`, or `float64`).\n"
   ]
  },
  {
   "cell_type": "code",
   "execution_count": 4,
   "metadata": {
    "collapsed": false,
    "deletable": true,
    "editable": true
   },
   "outputs": [
    {
     "name": "stdout",
     "output_type": "stream",
     "text": [
      "x\n",
      "[[ 0.5  1.5  0.1]\n",
      " [ 2.2  1.3  1.7]]\n",
      "x_true\n",
      "[[ 0.  1.  0.]\n",
      " [ 0.  0.  1.]]\n",
      "First method\n",
      "x_softmax\n",
      "[[ 0.227863    0.61939586  0.15274114]\n",
      " [ 0.49674623  0.20196195  0.30129182]]\n",
      "[ 0.4790107   1.19967598]\n",
      "Second method\n",
      "[ 0.4790107   1.19967598]\n"
     ]
    }
   ],
   "source": [
    "x = tf.convert_to_tensor(np.array([[0.5, 1.5, 0.1],[2.2, 1.3, 1.7]]))\n",
    "#batch_size = 2 num_classes = 3\n",
    "print(\"x\")\n",
    "print(sess.run(x))\n",
    "x_true = tf.convert_to_tensor(np.array([[0.0, 1.0, 0.0],[0.0, 0.0, 1.0]]))\n",
    "print(\"x_true\")\n",
    "print(sess.run(x_true))\n",
    "\n",
    "\n",
    "print(\"First method\")\n",
    "print(\"x_softmax\")\n",
    "x_softmax = tf.nn.softmax(x,dim = -1)\n",
    "print(sess.run(x_softmax))\n",
    "temp = tf.reduce_sum(x_true * tf.log(x_softmax),1)\n",
    "print(sess.run(-temp))\n",
    "\n",
    "print(\"Second method\")\n",
    "print(sess.run(tf.nn.softmax_cross_entropy_with_logits(labels= x_true, logits = x)))"
   ]
  },
  {
   "cell_type": "markdown",
   "metadata": {
    "deletable": true,
    "editable": true
   },
   "source": [
    "# tf.nn.softmax"
   ]
  },
  {
   "cell_type": "code",
   "execution_count": 22,
   "metadata": {
    "collapsed": false,
    "deletable": true,
    "editable": true
   },
   "outputs": [
    {
     "name": "stdout",
     "output_type": "stream",
     "text": [
      "[[[ 0.5  0.5]\n",
      "  [ 0.5  0.5]]\n",
      "\n",
      " [[ 0.5  0.5]\n",
      "  [ 0.5  0.5]]]\n",
      "[[[ 0.26894143  0.7310586 ]\n",
      "  [ 0.11920291  0.88079703]]\n",
      "\n",
      " [[ 0.26894143  0.7310586 ]\n",
      "  [ 0.11920291  0.88079703]]]\n",
      "[[[ 0.26894143  0.11920291]\n",
      "  [ 0.7310586   0.88079703]]\n",
      "\n",
      " [[ 0.26894143  0.11920291]\n",
      "  [ 0.7310586   0.88079703]]]\n"
     ]
    }
   ],
   "source": [
    "x = [[[1,2],[2,4]],[[1,2],[2,4]]]\n",
    "x = np.array(x, dtype = np.float32)\n",
    "print(sess.run(tf.nn.softmax(x,dim = 0)))\n",
    "print(sess.run(tf.nn.softmax(x,dim = -1)))\n",
    "print(sess.run(tf.nn.softmax(x,dim = 1)))\n",
    "#dim = 2 makes error => dim = -1"
   ]
  },
  {
   "cell_type": "markdown",
   "metadata": {
    "deletable": true,
    "editable": true
   },
   "source": [
    "# tf.reduce_sum"
   ]
  },
  {
   "cell_type": "code",
   "execution_count": 5,
   "metadata": {
    "collapsed": false,
    "deletable": true,
    "editable": true
   },
   "outputs": [
    {
     "name": "stdout",
     "output_type": "stream",
     "text": [
      "x\n",
      "[[1, 1, 1], [1, 1, 1]]\n",
      "tf.reduce_sum(x)\n",
      "6\n",
      "tf.reduce_sum(x, 0)\n",
      "[2 2 2]\n",
      "tf.reduce_sum(x, 1)\n",
      "[3 3]\n",
      "tf.reduce_sum(x, [0,1])\n",
      "6\n"
     ]
    }
   ],
   "source": [
    "x= [[1, 1, 1], [1, 1, 1]]\n",
    "print(\"x\")\n",
    "print(x)\n",
    "print(\"tf.reduce_sum(x)\")\n",
    "print(sess.run(tf.reduce_sum(x)))\n",
    "print(\"tf.reduce_sum(x, 0)\")\n",
    "print(sess.run(tf.reduce_sum(x, 0)))\n",
    "print(\"tf.reduce_sum(x, 1)\")\n",
    "print(sess.run(tf.reduce_sum(x, 1)))\n",
    "print(\"tf.reduce_sum(x, [0,1])\")\n",
    "print(sess.run(tf.reduce_sum(x, [0,1])))"
   ]
  },
  {
   "cell_type": "markdown",
   "metadata": {
    "deletable": true,
    "editable": true
   },
   "source": [
    "# tf.split"
   ]
  },
  {
   "cell_type": "code",
   "execution_count": 3,
   "metadata": {
    "collapsed": false,
    "deletable": true,
    "editable": true
   },
   "outputs": [
    {
     "name": "stdout",
     "output_type": "stream",
     "text": [
      "t1\n",
      "(2, 4)\n",
      "tf.split(0,2,t1)\n",
      "(2, 1, 4)\n",
      "tf.split(1,2,t1)\n",
      "(2, 2, 2)\n"
     ]
    }
   ],
   "source": [
    "t1 = [[1,2,3,4],[2,4,6,8]]\n",
    "t1 = np.array(t1)\n",
    "print(\"t1\")\n",
    "print(t1.shape)\n",
    "print(\"tf.split(0,2,t1)\")\n",
    "print(np.array(sess.run(tf.split(0,2,t1))).shape)\n",
    "print(\"tf.split(1,2,t1)\")\n",
    "print(np.array(sess.run(tf.split(1,2,t1))).shape)"
   ]
  },
  {
   "cell_type": "markdown",
   "metadata": {
    "deletable": true,
    "editable": true
   },
   "source": [
    "# tf.tile"
   ]
  },
  {
   "cell_type": "code",
   "execution_count": 18,
   "metadata": {
    "collapsed": false,
    "deletable": true,
    "editable": true
   },
   "outputs": [
    {
     "name": "stdout",
     "output_type": "stream",
     "text": [
      "a1\n",
      "(3,)\n",
      "tf.tile(a1,[3])\n",
      "(9,)\n"
     ]
    }
   ],
   "source": [
    "a1 = tf.constant([1,2,3])\n",
    "a2 = tf.constant([[1, 2, 3], [7, 8, 9]])\n",
    "print(\"a1\")\n",
    "print(sess(tf.shape(a1)))\n",
    "print(\"tf.tile(a1,[3])\")\n",
    "print(np.array(sess.run(tf.tile(a1,[3]))).shape)`"
   ]
  },
  {
   "cell_type": "markdown",
   "metadata": {
    "deletable": true,
    "editable": true
   },
   "source": [
    "# tf.one_hot(indices, depth, on_value=None, off_value=None, axis=None, dtype=None, name=None)"
   ]
  },
  {
   "cell_type": "code",
   "execution_count": 6,
   "metadata": {
    "collapsed": false,
    "deletable": true,
    "editable": true
   },
   "outputs": [
    {
     "name": "stdout",
     "output_type": "stream",
     "text": [
      "[[ 0.  2.  0.  0.  0.]\n",
      " [ 0.  0.  0.  2.  0.]\n",
      " [ 0.  0.  0.  2.  0.]\n",
      " [ 0.  0.  2.  0.  0.]]\n"
     ]
    }
   ],
   "source": [
    "print(sess.run(tf.one_hot([1,3,3,2], depth=5, on_value=2.0, off_value=0.0, dtype='float32')))\n",
    "#input array rank=N then, output array rank=N+1\n",
    "#If the location is represented by indices, then the lotcation takes on_value, and the other takes off_value\n",
    "#Total depth is 5"
   ]
  }
 ],
 "metadata": {
  "kernelspec": {
   "display_name": "Python 3",
   "language": "python",
   "name": "python3"
  },
  "language_info": {
   "codemirror_mode": {
    "name": "ipython",
    "version": 3
   },
   "file_extension": ".py",
   "mimetype": "text/x-python",
   "name": "python",
   "nbconvert_exporter": "python",
   "pygments_lexer": "ipython3",
   "version": "3.4.5"
  }
 },
 "nbformat": 4,
 "nbformat_minor": 1
}
